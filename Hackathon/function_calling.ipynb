{
 "cells": [
  {
   "cell_type": "code",
   "execution_count": 1,
   "id": "99811470",
   "metadata": {},
   "outputs": [
    {
     "name": "stderr",
     "output_type": "stream",
     "text": [
      "C:\\Users\\hp\\anaconda3\\lib\\site-packages\\numpy\\_distributor_init.py:30: UserWarning: loaded more than 1 DLL from .libs:\n",
      "C:\\Users\\hp\\anaconda3\\lib\\site-packages\\numpy\\.libs\\libopenblas.WCDJNK7YVMPZQ2ME2ZZHJJRJ3JIKNDB7.gfortran-win_amd64.dll\n",
      "C:\\Users\\hp\\anaconda3\\lib\\site-packages\\numpy\\.libs\\libopenblas64__v0.3.21-gcc_10_3_0.dll\n",
      "  warnings.warn(\"loaded more than 1 DLL from .libs:\"\n"
     ]
    }
   ],
   "source": [
    "from dotenv import dotenv_values\n",
    "import openai\n",
    "from openai import OpenAI\n",
    "import numpy as np\n",
    "import os\n",
    "import sqlite3"
   ]
  },
  {
   "cell_type": "code",
   "execution_count": 2,
   "id": "39483b1d",
   "metadata": {},
   "outputs": [],
   "source": [
    "api_key = dotenv_values(\"../api_data.env\")\n",
    "openai.api_key = api_key['OPEN_AI_KEY']"
   ]
  },
  {
   "cell_type": "code",
   "execution_count": 3,
   "id": "fb798c02",
   "metadata": {},
   "outputs": [],
   "source": [
    "client = OpenAI(api_key=os.environ.get(\"OPENAI_API_KEY\", openai.api_key))"
   ]
  },
  {
   "cell_type": "code",
   "execution_count": 4,
   "id": "a29fa1c3",
   "metadata": {},
   "outputs": [
    {
     "name": "stdout",
     "output_type": "stream",
     "text": [
      "Opened database successfully\n"
     ]
    }
   ],
   "source": [
    "import sqlite3\n",
    "\n",
    "conn = sqlite3.connect(\"alerting_db\")\n",
    "print(\"Opened database successfully\")"
   ]
  },
  {
   "cell_type": "code",
   "execution_count": 5,
   "id": "abaa0182",
   "metadata": {},
   "outputs": [],
   "source": [
    "def get_table_names(conn):\n",
    "    \"\"\"Return a list of table names.\"\"\"\n",
    "    table_names = []\n",
    "    tables = conn.execute(\"SELECT name FROM sqlite_master WHERE type='table';\")\n",
    "    for table in tables.fetchall():\n",
    "        table_names.append(table[0])\n",
    "    return table_names\n",
    "\n",
    "\n",
    "def get_column_names(conn, table_name):\n",
    "    \"\"\"Return a list of column names.\"\"\"\n",
    "    column_names = []\n",
    "    columns = conn.execute(f\"PRAGMA table_info('{table_name}');\").fetchall()\n",
    "    for col in columns:\n",
    "        column_names.append(col[1])\n",
    "    return column_names\n",
    "\n",
    "\n",
    "def get_database_info(conn):\n",
    "    \"\"\"Return a list of dicts containing the table name and columns for each table in the database.\"\"\"\n",
    "    table_dicts = []\n",
    "    for table_name in get_table_names(conn):\n",
    "        columns_names = get_column_names(conn, table_name)\n",
    "        table_dicts.append({\"table_name\": table_name, \"column_names\": columns_names})\n",
    "    return table_dicts"
   ]
  },
  {
   "cell_type": "code",
   "execution_count": 6,
   "id": "ff7bf605",
   "metadata": {},
   "outputs": [],
   "source": [
    "database_schema_dict = get_database_info(conn)\n",
    "database_schema_string = \"\\n\".join(\n",
    "    [\n",
    "        f\"Table: {table['table_name']}\\nColumns: {', '.join(table['column_names'])}\"\n",
    "        for table in database_schema_dict\n",
    "    ]\n",
    ")"
   ]
  },
  {
   "cell_type": "code",
   "execution_count": 7,
   "id": "8f078349",
   "metadata": {},
   "outputs": [
    {
     "data": {
      "text/plain": [
       "'Table: alerts_table\\nColumns: alert_id, alert_date, trader_id, deal_number, model_name\\nTable: deals_table\\nColumns: alert_id, deal_date, deal_number, price, volume'"
      ]
     },
     "execution_count": 7,
     "metadata": {},
     "output_type": "execute_result"
    }
   ],
   "source": [
    "database_schema_string"
   ]
  },
  {
   "cell_type": "code",
   "execution_count": 8,
   "id": "6fc60c06",
   "metadata": {},
   "outputs": [],
   "source": [
    "tools = [\n",
    "    {\n",
    "        \"type\": \"function\",\n",
    "        \"function\": {\n",
    "            \"name\": \"ask_database\",\n",
    "            \"description\": \"Use this function to answer user questions about Alerts and Deals in trading data. Input should be a fully formed SQL query.\",\n",
    "            \"parameters\": {\n",
    "                \"type\": \"object\",\n",
    "                \"properties\": {\n",
    "                    \"query\": {\n",
    "                        \"type\": \"string\",\n",
    "                        \"description\": f\"\"\"\n",
    "                                SQL query extracting info to answer the user's question.\n",
    "                                SQL should be written using this database schema:\n",
    "                                {database_schema_string}\n",
    "                                The query should be returned in plain text, not in JSON.\n",
    "                                \"\"\",\n",
    "                    }\n",
    "                },\n",
    "                \"required\": [\"query\"],\n",
    "            },\n",
    "        }\n",
    "    }\n",
    "]"
   ]
  },
  {
   "cell_type": "code",
   "execution_count": 9,
   "id": "0996618a",
   "metadata": {},
   "outputs": [],
   "source": [
    "def ask_database(conn, query):\n",
    "    \"\"\"Function to query SQLite database with a provided SQL query.\"\"\"\n",
    "    try:\n",
    "        results = str(conn.execute(query).fetchall())\n",
    "    except Exception as e:\n",
    "        results = f\"query failed with error: {e}\"\n",
    "    return results"
   ]
  },
  {
   "cell_type": "code",
   "execution_count": 10,
   "id": "af00a6d6",
   "metadata": {},
   "outputs": [],
   "source": [
    "GPT_MODEL = \"gpt-3.5-turbo\""
   ]
  },
  {
   "cell_type": "code",
   "execution_count": 16,
   "id": "eab7aedc",
   "metadata": {},
   "outputs": [],
   "source": [
    "assistant_system_prompt = \"\"\"You are a chatbot. Your role is to answer user questions politely and competently.\n",
    "You should follow these instructions to solve the case:\n",
    "- Understand their question and get the relevant answer.\n",
    "- Make use of the ongoing chat conversation to anwer question and do not just rely on tool.\n",
    "- Answer only if you are fully confident of the answer, otherwise say that can you please frame the sentence again.\n",
    "\"\"\""
   ]
  },
  {
   "cell_type": "code",
   "execution_count": 22,
   "id": "c8dc443a",
   "metadata": {},
   "outputs": [],
   "source": [
    "#!/usr/bin/env python\n",
    "import PySimpleGUI as sg\n",
    "\n",
    "'''\n",
    "A simple send/response chat window.  Add call to your send-routine and print the response\n",
    "If async responses can come in, then will need to use a different design that uses PySimpleGUI async design pattern\n",
    "\n",
    "Copyright 2023 PySimpleSoft, Inc. and/or its licensors. All rights reserved.\n",
    "\n",
    "Redistribution, modification, or any other use of PySimpleGUI or any portion thereof is subject to the terms of the PySimpleGUI License Agreement available at https://eula.pysimplegui.com.\n",
    "\n",
    "You may not redistribute, modify or otherwise use PySimpleGUI or its contents except pursuant to the PySimpleGUI License Agreement.\n",
    "\n",
    "'''\n",
    "\n",
    "sg.theme('GreenTan') # give our window a spiffy set of colors\n",
    "\n",
    "layout = [[sg.Text('Your output will go here', size=(40, 1))],\n",
    "          [sg.Output(size=(110, 20), font=('Helvetica 10'))],\n",
    "          [sg.Multiline(size=(70, 5), enter_submits=True, key='-QUERY-', do_not_clear=False),\n",
    "           sg.Button('SEND', button_color=(sg.YELLOWS[0], sg.BLUES[0]), bind_return_key=True),\n",
    "           sg.Button('EXIT', button_color=(sg.YELLOWS[0], sg.GREENS[0]))]]\n",
    "\n",
    "window = sg.Window('Chat window', layout, font=('Helvetica', ' 13'), default_button_element_size=(8,2), use_default_focus=False)\n",
    "\n",
    "#conversation_messages = []\n",
    "conversation_messages = [\n",
    "    {\n",
    "                \"role\": \"system\",\n",
    "                \"content\": assistant_system_prompt\n",
    "    }\n",
    "]\n",
    "try:\n",
    "    while True:     # The Event Loop\n",
    "        event, values = window.read()\n",
    "        if event in (sg.WIN_CLOSED, 'EXIT'):            # quit if exit button or X\n",
    "            break\n",
    "        if event == 'SEND':\n",
    "            user_question = values['-QUERY-'].rstrip()\n",
    "            conversation_messages.append ({\n",
    "            \"role\":\"user\", \n",
    "            \"content\": user_question\n",
    "            })\n",
    "            print(user_question)\n",
    "            #conversation_messages.append(messages)\n",
    "\n",
    "            response = client.chat.completions.create(\n",
    "                model=GPT_MODEL, \n",
    "                messages=conversation_messages, \n",
    "                tools= tools, \n",
    "                tool_choice=\"auto\"\n",
    "            )\n",
    "\n",
    "            # Append the message to messages list\n",
    "            response_message = response.choices[0].message \n",
    "\n",
    "\n",
    "            # Step 2: determine if the response from the model includes a tool call.   \n",
    "            tool_calls = response_message.tool_calls\n",
    "            if tool_calls:\n",
    "                # If true the model will return the name of the tool / function to call and the argument(s)  \n",
    "                tool_call_id = tool_calls[0].id\n",
    "                tool_function_name = tool_calls[0].function.name\n",
    "                tool_query_string = eval(tool_calls[0].function.arguments)['query']\n",
    "\n",
    "                print(tool_query_string)\n",
    "                conversation_messages.append({\n",
    "                    \"role\":\"assistant\", \n",
    "                    \"content\": tool_query_string\n",
    "                    })\n",
    "\n",
    "                # Step 3: Call the function and retrieve results. Append the results to the messages list.      \n",
    "    #             if tool_function_name == 'ask_database':\n",
    "    #                 results = ask_database(conn, tool_query_string)\n",
    "\n",
    "    #                 messages.append({\n",
    "    #                     \"role\":\"tool\", \n",
    "    #                     \"tool_call_id\":tool_call_id, \n",
    "    #                     \"name\": tool_function_name, \n",
    "    #                     \"content\":results\n",
    "    #                 })\n",
    "\n",
    "    #                 # Step 4: Invoke the chat completions API with the function response appended to the messages list\n",
    "    #                 # Note that messages with role 'tool' must be a response to a preceding message with 'tool_calls'\n",
    "    #                 model_response_with_function_call = client.chat.completions.create(\n",
    "    #                     model= GPT_MODEL,\n",
    "    #                     messages=messages,\n",
    "    #                 )  # get a new response from the model where it can see the function response\n",
    "    #                 print(model_response_with_function_call.choices[0].message.content)\n",
    "    #             else: \n",
    "    #                 print(f\"Error: function {tool_function_name} does not exist\")\n",
    "            else:\n",
    "                # Model did not identify a function to call, result can be returned to the user\n",
    "                conversation_messages.append({\n",
    "                    \"role\":\"assistant\", \n",
    "                    \"content\": response_message.content\n",
    "                    })\n",
    "                print(response_message.content)\n",
    "except Exception as e:\n",
    "    print(\"Exception occured :\",e)\n",
    "    \n",
    "window.close()"
   ]
  },
  {
   "cell_type": "code",
   "execution_count": null,
   "id": "4f1cf087",
   "metadata": {},
   "outputs": [],
   "source": [
    "# Step #1: Prompt with content that may result in function call. In this case the model can identify the information requested by the user is potentially available in the database schema passed to the model in Tools description. \n",
    "messages = [{\n",
    "    \"role\":\"user\", \n",
    "    \"content\": user_question\n",
    "}]\n",
    "\n",
    "response = client.chat.completions.create(\n",
    "    model='gpt-3.5-turbo', \n",
    "    messages=messages, \n",
    "    tools= tools, \n",
    "    tool_choice=\"auto\"\n",
    ")\n",
    "\n",
    "# Append the message to messages list\n",
    "response_message = response.choices[0].message \n",
    "messages.append(response_message)\n",
    "\n",
    "print(response_message)"
   ]
  },
  {
   "cell_type": "code",
   "execution_count": null,
   "id": "32109065",
   "metadata": {},
   "outputs": [],
   "source": [
    "tool_calls = response_message.tool_calls\n",
    "tool_calls"
   ]
  },
  {
   "cell_type": "code",
   "execution_count": null,
   "id": "91e5eeaf",
   "metadata": {},
   "outputs": [],
   "source": [
    "# Step 2: determine if the response from the model includes a tool call.   \n",
    "tool_calls = response_message.tool_calls\n",
    "if tool_calls:\n",
    "    # If true the model will return the name of the tool / function to call and the argument(s)  \n",
    "    tool_call_id = tool_calls[0].id\n",
    "    tool_function_name = tool_calls[0].function.name\n",
    "    tool_query_string = eval(tool_calls[0].function.arguments)['query']\n",
    "    \n",
    "    # Step 3: Call the function and retrieve results. Append the results to the messages list.      \n",
    "    if tool_function_name == 'ask_database':\n",
    "        results = ask_database(conn, tool_query_string)\n",
    "        \n",
    "        messages.append({\n",
    "            \"role\":\"tool\", \n",
    "            \"tool_call_id\":tool_call_id, \n",
    "            \"name\": tool_function_name, \n",
    "            \"content\":results\n",
    "        })\n",
    "        \n",
    "        # Step 4: Invoke the chat completions API with the function response appended to the messages list\n",
    "        # Note that messages with role 'tool' must be a response to a preceding message with 'tool_calls'\n",
    "        model_response_with_function_call = client.chat.completions.create(\n",
    "            model=\"gpt-4o\",\n",
    "            messages=messages,\n",
    "        )  # get a new response from the model where it can see the function response\n",
    "        print(model_response_with_function_call.choices[0].message.content)\n",
    "    else: \n",
    "        print(f\"Error: function {tool_function_name} does not exist\")\n",
    "else: \n",
    "    # Model did not identify a function to call, result can be returned to the user \n",
    "    print(response_message.content) "
   ]
  },
  {
   "cell_type": "code",
   "execution_count": null,
   "id": "7706dce0",
   "metadata": {},
   "outputs": [],
   "source": [
    "#pip install PySimpleGUI"
   ]
  },
  {
   "cell_type": "code",
   "execution_count": null,
   "id": "3142019a",
   "metadata": {},
   "outputs": [],
   "source": [
    "#!/usr/bin/env python\n",
    "import PySimpleGUI as sg\n",
    "\n",
    "'''\n",
    "A simple send/response chat window.  Add call to your send-routine and print the response\n",
    "If async responses can come in, then will need to use a different design that uses PySimpleGUI async design pattern\n",
    "\n",
    "Copyright 2023 PySimpleSoft, Inc. and/or its licensors. All rights reserved.\n",
    "\n",
    "Redistribution, modification, or any other use of PySimpleGUI or any portion thereof is subject to the terms of the PySimpleGUI License Agreement available at https://eula.pysimplegui.com.\n",
    "\n",
    "You may not redistribute, modify or otherwise use PySimpleGUI or its contents except pursuant to the PySimpleGUI License Agreement.\n",
    "\n",
    "'''\n",
    "\n",
    "sg.theme('GreenTan') # give our window a spiffy set of colors\n",
    "\n",
    "layout = [[sg.Text('Your output will go here', size=(40, 1))],\n",
    "          [sg.Output(size=(110, 20), font=('Helvetica 10'))],\n",
    "          [sg.Multiline(size=(70, 5), enter_submits=True, key='-QUERY-', do_not_clear=False),\n",
    "           sg.Button('SEND', button_color=(sg.YELLOWS[0], sg.BLUES[0]), bind_return_key=True),\n",
    "           sg.Button('EXIT', button_color=(sg.YELLOWS[0], sg.GREENS[0]))]]\n",
    "\n",
    "window = sg.Window('Chat window', layout, font=('Helvetica', ' 13'), default_button_element_size=(8,2), use_default_focus=False)\n",
    "\n",
    "while True:     # The Event Loop\n",
    "    event, values = window.read()\n",
    "    if event in (sg.WIN_CLOSED, 'EXIT'):            # quit if exit button or X\n",
    "        break\n",
    "    if event == 'SEND':\n",
    "        query = values['-QUERY-'].rstrip()\n",
    "        # EXECUTE YOUR COMMAND HERE\n",
    "        print('The command you entered was {}'.format(query), flush=True)\n",
    "\n",
    "window.close()"
   ]
  },
  {
   "cell_type": "code",
   "execution_count": null,
   "id": "278573fe",
   "metadata": {},
   "outputs": [],
   "source": []
  },
  {
   "cell_type": "code",
   "execution_count": null,
   "id": "eccce502",
   "metadata": {},
   "outputs": [],
   "source": []
  },
  {
   "cell_type": "code",
   "execution_count": null,
   "id": "d42ef122",
   "metadata": {},
   "outputs": [],
   "source": []
  },
  {
   "cell_type": "markdown",
   "id": "3e1c5664",
   "metadata": {},
   "source": [
    "### Create a dummy database"
   ]
  },
  {
   "cell_type": "code",
   "execution_count": null,
   "id": "70b520ae",
   "metadata": {},
   "outputs": [],
   "source": [
    "# conn = sqlite3.connect(\"alerting_db\")\n",
    "# c = conn.cursor()\n",
    "\n",
    "# c.execute(\n",
    "#     \"\"\"\n",
    "#     CREATE TABLE IF NOT EXISTS alerts_table\n",
    "#     ([alert_id] TEXT PRIMARY KEY, [alert_date] TEXT, [trader_id] TEXT , [deal_number] TEXT , [model_name] TEXT )\n",
    "#     \"\"\"\n",
    "# )\n",
    "\n",
    "# c.execute(\n",
    "#     \"\"\"\n",
    "#     CREATE TABLE IF NOT EXISTS deals_table\n",
    "#     ([alert_id] INTEGER, [deal_date] TEXT, [deal_number] TEXT,[price] INTEGER,[volume] INTEGER)\n",
    "#     \"\"\"\n",
    "# )\n",
    "\n",
    "# conn.commit()"
   ]
  },
  {
   "cell_type": "code",
   "execution_count": null,
   "id": "d00e9bca",
   "metadata": {},
   "outputs": [],
   "source": [
    "# # Insert data into Alert table\n",
    "# for row in alert_df.itertuples(index=False):\n",
    "#     c.execute('''\n",
    "#     INSERT INTO alerts_table (alert_id, alert_date, trader_id, deal_number, model_name)\n",
    "#     VALUES (?, ?, ?, ?, ?)\n",
    "#     ''', (row.alert_id, row.alert_date, row.trader_id, row.deal_number, row.model_name))\n",
    "\n",
    "# # Insert data into Deal table\n",
    "# for row in deal_df.itertuples(index=False):\n",
    "#     c.execute('''\n",
    "#     INSERT INTO deals_table (alert_id, deal_date, deal_number, price, volume)\n",
    "#     VALUES (?, ?, ?, ?, ?)\n",
    "#     ''', (row.alert_id, row.deal_date, row.deal_number, row.price, row.volume))\n",
    "\n",
    "# # Commit the transaction\n",
    "# conn.commit()"
   ]
  },
  {
   "cell_type": "code",
   "execution_count": null,
   "id": "5eefaab3",
   "metadata": {},
   "outputs": [],
   "source": [
    "# import sqlite3\n",
    "# import pandas as pd\n",
    "\n",
    "# conn = sqlite3.connect(\"alerting_db\")\n",
    "# c = conn.cursor()\n",
    "\n",
    "# c.execute(\n",
    "#     \"\"\"\n",
    "#     SELECT\n",
    "#     *\n",
    "#     FROM deals_table where deal_number = 'deal_0'\n",
    "#     \"\"\"\n",
    "# )\n",
    "\n",
    "# df = pd.DataFrame(c.fetchall(), columns=['alert_id', 'deal_date', 'deal_number', 'price', 'volume'])\n",
    "\n",
    "# print(df)"
   ]
  },
  {
   "cell_type": "code",
   "execution_count": null,
   "id": "fd656f20",
   "metadata": {},
   "outputs": [],
   "source": [
    "# import pandas as pd\n",
    "# import numpy as np\n",
    "# from datetime import datetime, timedelta\n",
    "# import random\n",
    "# import uuid\n",
    "\n",
    "# # Generate random dates\n",
    "# def random_date(start, end):\n",
    "#     return start + timedelta(\n",
    "#         seconds=random.randint(0, int((end - start).total_seconds())),\n",
    "#     )\n",
    "\n",
    "# # Parameters\n",
    "# num_rows = 500\n",
    "# start_date = datetime(2023, 1, 1)\n",
    "# end_date = datetime(2023, 12, 31)\n",
    "\n",
    "# # Generate data for Alert table\n",
    "# alert_data = {\n",
    "#     \"alert_id\": [str(uuid.uuid4()) for _ in range(num_rows)],\n",
    "#     \"alert_date\": [random_date(start_date, end_date).strftime(\"%Y-%m-%d\") for _ in range(num_rows)],\n",
    "#     \"trader_id\": [f\"trader_{i}\" for i in range(num_rows)],\n",
    "#     \"deal_number\": [f\"deal_{i}\" for i in range(num_rows)],\n",
    "#     \"model_name\": [f\"model_{random.randint(1, 5)}\" for _ in range(num_rows)]\n",
    "# }\n",
    "\n",
    "# # Generate data for Deal table\n",
    "# deal_data = {\n",
    "#     \"alert_id\": alert_data[\"alert_id\"],  # Same alert_id as in the Alert table\n",
    "#     \"deal_date\": [random_date(start_date, end_date).strftime(\"%Y-%m-%d\") for _ in range(num_rows)],\n",
    "#     \"deal_number\": [f\"deal_{i}\" for i in range(num_rows)],\n",
    "#     \"price\": [random.randint(100, 1000) for _ in range(num_rows)],\n",
    "#     \"volume\": [random.randint(1, 100) for _ in range(num_rows)]\n",
    "# }\n",
    "\n",
    "# # Create DataFrames\n",
    "# alert_df = pd.DataFrame(alert_data)\n",
    "# deal_df = pd.DataFrame(deal_data)\n",
    "\n",
    "# # Merge DataFrames on alert_id\n",
    "# merged_df = pd.merge(alert_df, deal_df, on=\"alert_id\")\n",
    "\n",
    "# # Show the DataFrame\n"
   ]
  },
  {
   "cell_type": "code",
   "execution_count": null,
   "id": "ecc4abb0",
   "metadata": {},
   "outputs": [],
   "source": [
    "# alert_df.to_csv('input_data/function_calling/alert_df.csv',index=False)\n",
    "# deal_df.to_csv('input_data/function_calling/deal_df.csv',index=False)"
   ]
  },
  {
   "cell_type": "code",
   "execution_count": null,
   "id": "c731c3b3",
   "metadata": {},
   "outputs": [],
   "source": []
  },
  {
   "cell_type": "code",
   "execution_count": null,
   "id": "6e2a4dd8",
   "metadata": {},
   "outputs": [],
   "source": []
  }
 ],
 "metadata": {
  "kernelspec": {
   "display_name": "Python 3",
   "language": "python",
   "name": "python3"
  },
  "language_info": {
   "codemirror_mode": {
    "name": "ipython",
    "version": 3
   },
   "file_extension": ".py",
   "mimetype": "text/x-python",
   "name": "python",
   "nbconvert_exporter": "python",
   "pygments_lexer": "ipython3",
   "version": "3.8.8"
  }
 },
 "nbformat": 4,
 "nbformat_minor": 5
}
