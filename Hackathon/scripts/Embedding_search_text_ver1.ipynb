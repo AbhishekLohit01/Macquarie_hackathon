{
 "cells": [
  {
   "cell_type": "code",
   "execution_count": null,
   "id": "a9a6d9b3",
   "metadata": {},
   "outputs": [],
   "source": [
    "# pip install Spire.Doc"
   ]
  },
  {
   "cell_type": "code",
   "execution_count": 2,
   "id": "ae0ede06",
   "metadata": {},
   "outputs": [
    {
     "name": "stderr",
     "output_type": "stream",
     "text": [
      "C:\\Users\\hp\\anaconda3\\lib\\site-packages\\numpy\\_distributor_init.py:30: UserWarning: loaded more than 1 DLL from .libs:\n",
      "C:\\Users\\hp\\anaconda3\\lib\\site-packages\\numpy\\.libs\\libopenblas.WCDJNK7YVMPZQ2ME2ZZHJJRJ3JIKNDB7.gfortran-win_amd64.dll\n",
      "C:\\Users\\hp\\anaconda3\\lib\\site-packages\\numpy\\.libs\\libopenblas64__v0.3.21-gcc_10_3_0.dll\n",
      "  warnings.warn(\"loaded more than 1 DLL from .libs:\"\n"
     ]
    }
   ],
   "source": [
    "from spire.doc import *\n",
    "from spire.doc.common import *\n",
    "from dotenv import dotenv_values\n",
    "import openai\n",
    "from openai import OpenAI\n",
    "import numpy as np\n",
    "\n",
    "# Create a Document instance\n",
    "document = Document()"
   ]
  },
  {
   "cell_type": "code",
   "execution_count": 3,
   "id": "afe05b30",
   "metadata": {},
   "outputs": [],
   "source": [
    "api_key = dotenv_values(\"../api_data.env\")\n",
    "openai.api_key = api_key['OPEN_AI_KEY']"
   ]
  },
  {
   "cell_type": "code",
   "execution_count": 4,
   "id": "f9f744bf",
   "metadata": {},
   "outputs": [],
   "source": [
    "client = OpenAI(api_key=os.environ.get(\"OPENAI_API_KEY\", openai.api_key))"
   ]
  },
  {
   "cell_type": "markdown",
   "id": "048efd21",
   "metadata": {},
   "source": [
    "## Loading a text document"
   ]
  },
  {
   "cell_type": "code",
   "execution_count": 5,
   "id": "5f1e930f",
   "metadata": {},
   "outputs": [],
   "source": [
    "document.LoadFromFile(\"input_data/Macquarie Group announces $A3.docx\")"
   ]
  },
  {
   "cell_type": "markdown",
   "id": "32ccb621",
   "metadata": {},
   "source": [
    "### Extracting Paragraphs from the text"
   ]
  },
  {
   "cell_type": "code",
   "execution_count": 6,
   "id": "8eeb693a",
   "metadata": {},
   "outputs": [],
   "source": [
    "# Create a list to store the extracted headings\n",
    "headings = []\n",
    "para = []\n",
    "heading_flag = 0\n",
    "sectionlst= []\n",
    "# Iterate through all sections in the document\n",
    "for i in range(document.Sections.Count):\n",
    "    section = document.Sections[i]\n",
    "    heading_flag = 0\n",
    "    headng=''\n",
    "    # Iterate through all paragraphs in each section\n",
    "    for j in range(section.Paragraphs.Count):\n",
    "        paragraph = section.Paragraphs[j]\n",
    "        # Check if the style name of the paragraph contains Heading\n",
    "        if paragraph.StyleName is not None and \"Heading\" in paragraph.StyleName:\n",
    "            # Get the text of the paragraph and append it to the list\n",
    "            headings.append(paragraph.Text)\n",
    "        else:\n",
    "            #if len(paragraph.Text) > 0:\n",
    "            para.append(paragraph.Text)\n",
    "                \n",
    "            \n",
    "\n",
    "# Save the content of the list to a text file\n",
    "# with open(\"ExtractedHeadings.txt\", \"w\") as file:\n",
    "#     for heading in headings:\n",
    "#         file.write(heading + \"\\n\")\n",
    "\n",
    "document.Close()"
   ]
  },
  {
   "cell_type": "markdown",
   "id": "a3091dcd",
   "metadata": {},
   "source": [
    "### Combining para chunks"
   ]
  },
  {
   "cell_type": "code",
   "execution_count": 7,
   "id": "5a0ebfd0",
   "metadata": {},
   "outputs": [],
   "source": [
    "# Step 1: Define your list\n",
    "import pandas as pd\n",
    "pars_lst = []\n",
    "\n",
    "# Step 2: Define a function to extract chunks\n",
    "def extract_chunks(lst, chunk_size):\n",
    "    for i in range(0, len(lst), chunk_size):\n",
    "        yield lst[i:i + chunk_size]\n",
    "\n",
    "# Step 3: Extract chunks\n",
    "chunk_size = 5\n",
    "chunks = list(extract_chunks(para, chunk_size))\n",
    "\n",
    "# Step 4: Convert chunks to DataFrames\n",
    "\n",
    "\n",
    "for chu in chunks:\n",
    "    pars_lst.append(' '.join(chu))\n",
    "    "
   ]
  },
  {
   "cell_type": "code",
   "execution_count": 8,
   "id": "899eb92e",
   "metadata": {},
   "outputs": [
    {
     "data": {
      "text/plain": [
       "10"
      ]
     },
     "execution_count": 8,
     "metadata": {},
     "output_type": "execute_result"
    }
   ],
   "source": [
    "len(pars_lst)"
   ]
  },
  {
   "cell_type": "markdown",
   "id": "12ca6df8",
   "metadata": {},
   "source": [
    "### Extracting Embedding using text-embedding-3-small"
   ]
  },
  {
   "cell_type": "code",
   "execution_count": 9,
   "id": "5485a245",
   "metadata": {},
   "outputs": [
    {
     "name": "stdout",
     "output_type": "stream",
     "text": [
      "0\n",
      "1\n",
      "2\n",
      "3\n",
      "4\n",
      "5\n",
      "6\n",
      "7\n",
      "8\n",
      "9\n"
     ]
    }
   ],
   "source": [
    "EMBEDDING_MODEL = \"text-embedding-3-small\"\n",
    "\n",
    "embeddings = []\n",
    "embeddings_dic ={}\n",
    "for batch in range(0, len(pars_lst)):\n",
    "    print(batch)\n",
    "    response = client.embeddings.create(model=EMBEDDING_MODEL, input=pars_lst[batch])\n",
    "    \n",
    "    for i, be in enumerate(response.data):\n",
    "        assert i == be.index  # double check embeddings are in same order as input\n",
    "    batch_embeddings = [e.embedding for e in response.data]\n",
    "    embeddings.extend(batch_embeddings)\n",
    "    embeddings_dic[pars_lst[batch]] = batch_embeddings\n",
    "    "
   ]
  },
  {
   "cell_type": "code",
   "execution_count": 10,
   "id": "3bed6073",
   "metadata": {},
   "outputs": [],
   "source": [
    "df = pd.DataFrame(embeddings_dic.items()).rename(columns = {0:'text',1:'embedding'})"
   ]
  },
  {
   "cell_type": "code",
   "execution_count": 11,
   "id": "1b2f4642",
   "metadata": {},
   "outputs": [],
   "source": [
    "#df.to_csv(\"embedding_Macquarie_Group_announces_$A3.csv\")"
   ]
  },
  {
   "cell_type": "markdown",
   "id": "ad45b7d1",
   "metadata": {},
   "source": [
    "### Testing the stored embedding and input query match"
   ]
  },
  {
   "cell_type": "code",
   "execution_count": 17,
   "id": "c660699e",
   "metadata": {},
   "outputs": [],
   "source": [
    "df = pd.read_csv('Embedding_df/embedding_Macquarie_Group_announces_$A3.csv').drop(columns = ['Unnamed: 0'])"
   ]
  },
  {
   "cell_type": "code",
   "execution_count": 18,
   "id": "df71640e",
   "metadata": {},
   "outputs": [
    {
     "data": {
      "text/html": [
       "<div>\n",
       "<style scoped>\n",
       "    .dataframe tbody tr th:only-of-type {\n",
       "        vertical-align: middle;\n",
       "    }\n",
       "\n",
       "    .dataframe tbody tr th {\n",
       "        vertical-align: top;\n",
       "    }\n",
       "\n",
       "    .dataframe thead th {\n",
       "        text-align: right;\n",
       "    }\n",
       "</style>\n",
       "<table border=\"1\" class=\"dataframe\">\n",
       "  <thead>\n",
       "    <tr style=\"text-align: right;\">\n",
       "      <th></th>\n",
       "      <th>text</th>\n",
       "      <th>embedding</th>\n",
       "    </tr>\n",
       "  </thead>\n",
       "  <tbody>\n",
       "    <tr>\n",
       "      <th>0</th>\n",
       "      <td>FY24 net profit of $A3,522 million, down 32% o...</td>\n",
       "      <td>[[0.026646699756383896, 0.009173554368317127, ...</td>\n",
       "    </tr>\n",
       "    <tr>\n",
       "      <th>1</th>\n",
       "      <td>Bank Level 2 CET1 ratio 13.6% (Harmonised5: 18...</td>\n",
       "      <td>[[0.010210090316832066, 0.041706670075654984, ...</td>\n",
       "    </tr>\n",
       "    <tr>\n",
       "      <th>2</th>\n",
       "      <td>Annuity-style activities, which are undertaken...</td>\n",
       "      <td>[[0.0324883796274662, 0.04309939965605736, 0.0...</td>\n",
       "    </tr>\n",
       "    <tr>\n",
       "      <th>3</th>\n",
       "      <td>Assets under management at 31 March 2024 were ...</td>\n",
       "      <td>[[0.05020987242460251, 0.02893919125199318, 0....</td>\n",
       "    </tr>\n",
       "    <tr>\n",
       "      <th>4</th>\n",
       "      <td>Macquarie’s financial position exceeds the Aus...</td>\n",
       "      <td>[[0.0031701396219432354, 0.024023061618208885,...</td>\n",
       "    </tr>\n",
       "  </tbody>\n",
       "</table>\n",
       "</div>"
      ],
      "text/plain": [
       "                                                text  \\\n",
       "0  FY24 net profit of $A3,522 million, down 32% o...   \n",
       "1  Bank Level 2 CET1 ratio 13.6% (Harmonised5: 18...   \n",
       "2  Annuity-style activities, which are undertaken...   \n",
       "3  Assets under management at 31 March 2024 were ...   \n",
       "4  Macquarie’s financial position exceeds the Aus...   \n",
       "\n",
       "                                           embedding  \n",
       "0  [[0.026646699756383896, 0.009173554368317127, ...  \n",
       "1  [[0.010210090316832066, 0.041706670075654984, ...  \n",
       "2  [[0.0324883796274662, 0.04309939965605736, 0.0...  \n",
       "3  [[0.05020987242460251, 0.02893919125199318, 0....  \n",
       "4  [[0.0031701396219432354, 0.024023061618208885,...  "
      ]
     },
     "execution_count": 18,
     "metadata": {},
     "output_type": "execute_result"
    }
   ],
   "source": [
    "df.head()"
   ]
  },
  {
   "cell_type": "code",
   "execution_count": 27,
   "id": "feb749c3",
   "metadata": {},
   "outputs": [],
   "source": [
    "import ast \n",
    "df['embedding'] = df['embedding'].apply(ast.literal_eval)"
   ]
  },
  {
   "cell_type": "code",
   "execution_count": 28,
   "id": "4a6a783e",
   "metadata": {},
   "outputs": [],
   "source": [
    "# models\n",
    "EMBEDDING_MODEL = \"text-embedding-3-small\"\n",
    "GPT_MODEL = \"gpt-3.5-turbo\""
   ]
  },
  {
   "cell_type": "code",
   "execution_count": 29,
   "id": "3302f4c4",
   "metadata": {},
   "outputs": [],
   "source": [
    "# search function\n",
    "from scipy import spatial \n",
    "def strings_ranked_by_relatedness(\n",
    "    query: str,\n",
    "    df: pd.DataFrame,\n",
    "    relatedness_fn=lambda x, y: 1 - spatial.distance.cosine(x, y),\n",
    "    top_n: int = 100\n",
    ") -> tuple:\n",
    "    \"\"\"Returns a list of strings and relatednesses, sorted from most related to least.\"\"\"\n",
    "    query_embedding_response = client.embeddings.create(\n",
    "        model=EMBEDDING_MODEL,\n",
    "        input=query,\n",
    "    )\n",
    "    query_embedding = query_embedding_response.data[0].embedding\n",
    "    strings_and_relatednesses = [\n",
    "        (row[\"text\"], relatedness_fn(query_embedding, row[\"embedding\"]))\n",
    "        for i, row in df.iterrows()\n",
    "    ]\n",
    "    strings_and_relatednesses.sort(key=lambda x: x[1], reverse=True)\n",
    "    strings, relatednesses = zip(*strings_and_relatednesses)\n",
    "    return strings[:top_n], relatednesses[:top_n]"
   ]
  },
  {
   "cell_type": "code",
   "execution_count": 30,
   "id": "dfa147ae",
   "metadata": {},
   "outputs": [
    {
     "name": "stdout",
     "output_type": "stream",
     "text": [
      "relatedness=0.56\n"
     ]
    },
    {
     "data": {
      "text/plain": [
       "'Assets under management at 31 March 2024 were $A938.3 billion2, up seven per cent from $A878.6 billion at 31 March 2023, largely due to favourable market movements, investments made by MAM Private Markets-managed funds and favourable foreign exchange movements, partially offset by assets no longer managed as a result of a reduction of co-investment management rights. MAM delivered a net profit contribution of $A1,208 million, down 48 per cent from $A2,342 million in FY23. The result was primarily driven by lower asset realisations in green investments and increased net expenditure in investments in green energy portfolio companies operating on a standalone basis with base and performance fees broadly in line. BFS delivered a net profit contribution of $A1,241 million, up three per cent from $A1,201 million in FY23. The result reflected growth in the loan portfolio and BFS deposits11, and credit impairment reversals primarily reflecting an improvement in the macroeconomic outlook; partially offset by margin compression, higher employment expenses and increased technology investment to support portfolio growth, compliance and regulatory requirements. CGM delivered a net profit contribution of $A3,213 million, down 47 per cent from $A6,007 million in FY23. The overall result reflected substantially lower inventory management and trading income from a strong prior year in North American Gas and Power and a decreased contribution from Commodities risk management, primarily in EMEA Gas and Power, and Resources due to lower client hedging as volatility and price movements stabilised across commodity markets following record highs in the prior year. Commodities income of $A3,516 million was up six per cent on the year ended 31 March 2022 (FY22). Financial Markets had an increased contribution on the prior year with continued strong performance across major products and markets, particularly in foreign exchange and interest rate products, and an increased contribution from the Futures business. Macquarie Capital delivered a net profit contribution of $A1,051 million, up 31 per cent from $A801 million in FY23. The result reflected higher investment-related income driven by growth in the private credit portfolio, lower credit provisions and net impairment reversals, which was partially offset by lower net gains on investments including the non-recurrence of material asset realisations and lower advisory fee income.'"
      ]
     },
     "metadata": {},
     "output_type": "display_data"
    },
    {
     "name": "stdout",
     "output_type": "stream",
     "text": [
      "relatedness=0.50\n"
     ]
    },
    {
     "data": {
      "text/plain": [
       "'The geographic composition of income and the impact of foreign exchange Potential tax or regulatory changes and tax uncertainties Ms Wikramanayake said: “Macquarie remains well-positioned to deliver superior performance in the medium term with its diverse business mix across annuity-style and markets-facing businesses; deep expertise across diverse sectors in major markets with structural growth tailwinds; patient adjacent growth across new products and new markets; ongoing investment in our operating platform; a strong and conservative balance sheet; and a proven risk management framework and culture.” Where referenced in this document, total income is net operating income excluding Corporate items. Macquarie Asset Management (MAM) Private Markets Assets under Management (AUM) includes equity yet to deploy and equity committed to assets but not yet deployed.'"
      ]
     },
     "metadata": {},
     "output_type": "display_data"
    },
    {
     "name": "stdout",
     "output_type": "stream",
     "text": [
      "relatedness=0.47\n"
     ]
    },
    {
     "data": {
      "text/plain": [
       "'Annuity-style activities, which are undertaken by Macquarie Asset Management (MAM), Banking and Financial Services (BFS) and certain businesses in Commodities and Global Markets (CGM), generated a combined net profit contribution7 of $A3,014 million, down 27 per cent on FY23, which was primarily due to lower asset realisations in green investments and continued investment in the development of green energy portfolio companies in MAM. Markets-facing activities, which are undertaken by Macquarie Capital and most businesses in CGM, delivered a combined net profit contribution of $A3,699 million, down 40 per cent on FY23, which was notably characterised by exceptional levels of volatility in commodity markets that drove a record FY23 performance from CGM. Net operating income of $A16,887 million was down 12 per cent on FY23, while operating expenses of $A12,061 million were broadly in line with FY23. International income accounted for 66 per cent of Macquarie’s total income. The income tax expense of $A1,291 million was down 29 per cent on FY23 and the effective tax rate was 26.8 per cent8, up from 26.0 per cent in FY23. The higher effective tax rate was mainly driven by the geographic composition and nature of earnings. At 31 March 2024, the Group employed 20,666 people9, which was up one per cent on 31 March 2023. In addition, approximately 236,000 people were employed across managed fund assets and investments10.'"
      ]
     },
     "metadata": {},
     "output_type": "display_data"
    },
    {
     "name": "stdout",
     "output_type": "stream",
     "text": [
      "relatedness=0.40\n"
     ]
    },
    {
     "data": {
      "text/plain": [
       "'Bank Level 2 CET1 ratio 13.6% (Harmonised5: 18.7%); Leverage ratio 5.2% (Harmonised5: 5.9%); LCR 191%6; NSFR 115%6 Return on equity (ROE) 10.8%, compared with 16.9% in FY23; 2H24 annualised ROE 12.9% Final ordinary dividend of $A3.85 per share (40% franked), FY24 ordinary dividend of $A6.40 per share (40% franked), representing a 2H24 payout ratio of 70% and FY24 payout ratio of 70% Macquarie Group (ASX: MQG; ADR: MQBKY) today announced a net profit after tax attributable to ordinary shareholders of $A3,522 million for the year ended 31 March 2024 (FY24), down 32 per cent on the year ended 31 March 2023 (FY23). Profit for the half year ended 31 March 2024 (2H24) was $A2,107 million, up 49 per cent on the half year ended 30 September 2023 (1H24) and down 27 per cent on the half year ended 31 March 2023 (2H23). Macquarie Group Managing Director and Chief Executive Officer, Shemara Wikramanayake, said: “Despite ongoing economic uncertainty and subdued market conditions in many parts of the world, Macquarie’s client franchises remained resilient over the last year, with continued client growth, fundraising and new business origination across the Group as we delivered our 55th consecutive year of profitability since inception.”'"
      ]
     },
     "metadata": {},
     "output_type": "display_data"
    },
    {
     "name": "stdout",
     "output_type": "stream",
     "text": [
      "relatedness=0.39\n"
     ]
    },
    {
     "data": {
      "text/plain": [
       "'FY24 net profit of $A3,522 million, down 32% on FY23; 2H24 net profit of $A2,107 million, up 49% on 1H24, down 27% on 2H23 International income 66% of total income1 in FY24 Assets under management of $A938.3 billion2 at 31 March 2024, up 7% from 31 March 2023 and up 5% from 30 September 2023 Financial position comfortably exceeds regulatory minimum requirements Group capital surplus of $A10.7 billion3,4'"
      ]
     },
     "metadata": {},
     "output_type": "display_data"
    }
   ],
   "source": [
    "# examples\n",
    "strings, relatednesses = strings_ranked_by_relatedness(\"MAM contribution in profit\", df, top_n=5)\n",
    "for string, relatedness in zip(strings, relatednesses):\n",
    "    print(f\"{relatedness=:.2f}\")\n",
    "    display(string)"
   ]
  },
  {
   "cell_type": "markdown",
   "id": "abc98a8d",
   "metadata": {},
   "source": [
    "### Building the code for gpt response using Embedding search"
   ]
  },
  {
   "cell_type": "code",
   "execution_count": 31,
   "id": "4c29d0ff",
   "metadata": {},
   "outputs": [],
   "source": [
    "GPT_MODEL = \"gpt-3.5-turbo\"\n",
    "import tiktoken  # for counting tokens\n",
    "import os"
   ]
  },
  {
   "cell_type": "code",
   "execution_count": 32,
   "id": "451c0f64",
   "metadata": {},
   "outputs": [],
   "source": [
    "def num_tokens(text: str, model: str = GPT_MODEL) -> int:\n",
    "    \"\"\"Return the number of tokens in a string.\"\"\"\n",
    "    encoding = tiktoken.encoding_for_model(model)\n",
    "    return len(encoding.encode(text))\n",
    "\n",
    "\n",
    "def query_message(\n",
    "    query: str,\n",
    "    df: pd.DataFrame,\n",
    "    model: str,\n",
    "    token_budget: int\n",
    ") -> str:\n",
    "    \"\"\"Return a message for GPT, with relevant source texts pulled from a dataframe.\"\"\"\n",
    "    strings, relatednesses = strings_ranked_by_relatedness(query, df)\n",
    "    introduction = 'Use the below articles on the SOW of a Company to answer questions\"'\n",
    "    question = f\"\\n\\nQuestion: {query}\"\n",
    "    message = introduction\n",
    "    for string in strings:\n",
    "        next_article = f'\\n\\nWikipedia article section:\\n\"\"\"\\n{string}\\n\"\"\"'\n",
    "        if (\n",
    "            num_tokens(message + next_article + question, model=model)\n",
    "            > token_budget\n",
    "        ):\n",
    "            break\n",
    "        else:\n",
    "            message += next_article\n",
    "    return message + question\n",
    "\n",
    "\n",
    "def ask(\n",
    "    query: str,\n",
    "    df: pd.DataFrame = df,\n",
    "    model: str = GPT_MODEL,\n",
    "    token_budget: int = 4096 - 500,\n",
    "    print_message: bool = False,\n",
    ") -> str:\n",
    "    \"\"\"Answers a query using GPT and a dataframe of relevant texts and embeddings.\"\"\"\n",
    "    message = query_message(query, df, model=model, token_budget=token_budget)\n",
    "    if print_message:\n",
    "        print(message)\n",
    "    messages = [\n",
    "        {\"role\": \"system\", \"content\": \"You answer questions about the macquarie annual report news.\"},\n",
    "        {\"role\": \"user\", \"content\": message},\n",
    "    ]\n",
    "    response = client.chat.completions.create(\n",
    "        model=model,\n",
    "        messages=messages,\n",
    "        temperature=0,\n",
    "    )\n",
    "    response_message = response.choices[0].message.content\n",
    "    return response_message"
   ]
  },
  {
   "cell_type": "code",
   "execution_count": 33,
   "id": "70a2bf98",
   "metadata": {},
   "outputs": [
    {
     "data": {
      "text/plain": [
       "'The difference between CGM and MAM contribution in profit is $1,199 million. \\n\\nCGM delivered a net profit contribution of $A3,213 million, while MAM delivered a net profit contribution of $A2,014 million. Therefore, the difference in profit contribution between CGM and MAM is $3,213 million - $2,014 million = $1,199 million.'"
      ]
     },
     "execution_count": 33,
     "metadata": {},
     "output_type": "execute_result"
    }
   ],
   "source": [
    "ask('Difference between CGM and MAM contribution in profit by number')"
   ]
  },
  {
   "cell_type": "code",
   "execution_count": null,
   "id": "8449b454",
   "metadata": {},
   "outputs": [],
   "source": []
  },
  {
   "cell_type": "code",
   "execution_count": null,
   "id": "d3002906",
   "metadata": {},
   "outputs": [],
   "source": []
  },
  {
   "cell_type": "code",
   "execution_count": null,
   "id": "04973606",
   "metadata": {},
   "outputs": [],
   "source": [
    "# pip install win32com"
   ]
  },
  {
   "cell_type": "code",
   "execution_count": null,
   "id": "07cdbd38",
   "metadata": {},
   "outputs": [],
   "source": [
    "# https://learn.microsoft.com/en-us/office/vba/api/outlook.oldefaultfolders \n",
    "# https://learn.microsoft.com/en-us/office/vba/api/outlook.folder.name\n",
    "# https://cookbook.openai.com/examples/using_tool_required_for_customer_service"
   ]
  },
  {
   "cell_type": "markdown",
   "id": "ea485f9c",
   "metadata": {},
   "source": [
    "### Outlook Mails"
   ]
  },
  {
   "cell_type": "code",
   "execution_count": null,
   "id": "46418c51",
   "metadata": {},
   "outputs": [],
   "source": [
    "# import win32com.client\n",
    "\n",
    "# outlook = win32com.client.Dispatch(\"Outlook.Application\",userName=\"abhishek.lohit01@outlook.com\").GetNamespace(\"MAPI\")\n",
    "\n",
    "# inbox = outlook.GetDefaultFolder(3) # \"6\" refers to the index of a folder - in this case,\n",
    "#                                     # the inbox. You can change that number to reference\n",
    "#                                     # any other folder\n",
    "# # Print the total number of items in the Inbox\n",
    "# print(f\"Total Inbox Items: {inbox.UnReadItemCount}\")\n",
    "# # messages = inbox.Items\n",
    "# # message = messages.\n",
    "# # body_content = message.body\n",
    "# # print(\"body_content: \",body_content)"
   ]
  },
  {
   "cell_type": "code",
   "execution_count": null,
   "id": "ce47a7e3",
   "metadata": {},
   "outputs": [],
   "source": [
    "# import re\n",
    "# for message in inbox.Items:\n",
    "#     #print(message.To)\n",
    "#     message_dic = {}\n",
    "#     if (message.SenderName !='') & (message.Subject!='') & (message.Body!=''):\n",
    "#         message.Body = message.Body.lower()\n",
    "#         if('microsoft teams' in message.Body):\n",
    "#             pass\n",
    "#         else:\n",
    "#             # Regex pattern to match http and https URLs\n",
    "#             pattern = r'http[s]?://\\S+'\n",
    "\n",
    "#             # Remove the URLs from the string\n",
    "#             message.Body = re.sub(pattern, '', message.Body)\n",
    "#             #print(\"Subject: \", message.Subject)\n",
    "#             print(\"Body: \",message.Body)\n",
    "#             #print(\"Importance: \", [\"Low\", \"Normal\", \"High\"][message.Importance])\n",
    "#             print(\"--\"*70)"
   ]
  },
  {
   "cell_type": "code",
   "execution_count": null,
   "id": "ced1aa71",
   "metadata": {},
   "outputs": [],
   "source": []
  }
 ],
 "metadata": {
  "kernelspec": {
   "display_name": "Python 3",
   "language": "python",
   "name": "python3"
  },
  "language_info": {
   "codemirror_mode": {
    "name": "ipython",
    "version": 3
   },
   "file_extension": ".py",
   "mimetype": "text/x-python",
   "name": "python",
   "nbconvert_exporter": "python",
   "pygments_lexer": "ipython3",
   "version": "3.8.8"
  }
 },
 "nbformat": 4,
 "nbformat_minor": 5
}
