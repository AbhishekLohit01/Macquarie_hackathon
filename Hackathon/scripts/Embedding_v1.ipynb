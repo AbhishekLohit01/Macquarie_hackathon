{
 "cells": [
  {
   "cell_type": "code",
   "execution_count": 7,
   "id": "9608819e",
   "metadata": {},
   "outputs": [
    {
     "name": "stderr",
     "output_type": "stream",
     "text": [
      "C:\\Users\\hp\\anaconda3\\lib\\site-packages\\ipykernel\\ipkernel.py:287: DeprecationWarning: `should_run_async` will not call `transform_cell` automatically in the future. Please pass the result to `transformed_cell` argument and any exception that happen during thetransform in `preprocessing_exc_tuple` in IPython 7.17 and above.\n",
      "  and should_run_async(code)\n"
     ]
    }
   ],
   "source": [
    "# imports\n",
    "import mwclient  # for downloading example Wikipedia articles\n",
    "import mwparserfromhell  # for splitting Wikipedia articles into sections\n",
    "import openai  # for generating embeddings\n",
    "import os  # for environment variables\n",
    "import pandas as pd  # for DataFrames to store article sections and embeddings\n",
    "import re  # for cutting <ref> links out of Wikipedia articles\n",
    "import tiktoken  # for counting tokens\n",
    "from dotenv import dotenv_values"
   ]
  },
  {
   "cell_type": "code",
   "execution_count": 8,
   "id": "a5794435",
   "metadata": {},
   "outputs": [
    {
     "name": "stderr",
     "output_type": "stream",
     "text": [
      "C:\\Users\\hp\\anaconda3\\lib\\site-packages\\ipykernel\\ipkernel.py:287: DeprecationWarning: `should_run_async` will not call `transform_cell` automatically in the future. Please pass the result to `transformed_cell` argument and any exception that happen during thetransform in `preprocessing_exc_tuple` in IPython 7.17 and above.\n",
      "  and should_run_async(code)\n"
     ]
    }
   ],
   "source": [
    "# pip install tiktoken"
   ]
  },
  {
   "cell_type": "code",
   "execution_count": 9,
   "id": "660d5154",
   "metadata": {},
   "outputs": [
    {
     "name": "stderr",
     "output_type": "stream",
     "text": [
      "C:\\Users\\hp\\anaconda3\\lib\\site-packages\\ipykernel\\ipkernel.py:287: DeprecationWarning: `should_run_async` will not call `transform_cell` automatically in the future. Please pass the result to `transformed_cell` argument and any exception that happen during thetransform in `preprocessing_exc_tuple` in IPython 7.17 and above.\n",
      "  and should_run_async(code)\n"
     ]
    },
    {
     "ename": "KeyError",
     "evalue": "'OPEN_AI_KEY'",
     "output_type": "error",
     "traceback": [
      "\u001b[1;31m---------------------------------------------------------------------------\u001b[0m",
      "\u001b[1;31mKeyError\u001b[0m                                  Traceback (most recent call last)",
      "\u001b[1;32m<ipython-input-9-983830701ae6>\u001b[0m in \u001b[0;36m<module>\u001b[1;34m\u001b[0m\n\u001b[0;32m      1\u001b[0m \u001b[0mapi_key\u001b[0m \u001b[1;33m=\u001b[0m \u001b[0mdotenv_values\u001b[0m\u001b[1;33m(\u001b[0m\u001b[1;34m\"api_data.env\"\u001b[0m\u001b[1;33m)\u001b[0m\u001b[1;33m\u001b[0m\u001b[1;33m\u001b[0m\u001b[0m\n\u001b[1;32m----> 2\u001b[1;33m \u001b[0mopenai\u001b[0m\u001b[1;33m.\u001b[0m\u001b[0mapi_key\u001b[0m \u001b[1;33m=\u001b[0m \u001b[0mapi_key\u001b[0m\u001b[1;33m[\u001b[0m\u001b[1;34m'OPEN_AI_KEY'\u001b[0m\u001b[1;33m]\u001b[0m\u001b[1;33m\u001b[0m\u001b[1;33m\u001b[0m\u001b[0m\n\u001b[0m",
      "\u001b[1;31mKeyError\u001b[0m: 'OPEN_AI_KEY'"
     ]
    }
   ],
   "source": [
    "api_key = dotenv_values(\"api_data.env\")\n",
    "openai.api_key = api_key['OPEN_AI_KEY']"
   ]
  },
  {
   "cell_type": "code",
   "execution_count": 70,
   "id": "54ff47a3",
   "metadata": {},
   "outputs": [
    {
     "name": "stderr",
     "output_type": "stream",
     "text": [
      "C:\\Users\\hp\\anaconda3\\lib\\site-packages\\ipykernel\\ipkernel.py:287: DeprecationWarning: `should_run_async` will not call `transform_cell` automatically in the future. Please pass the result to `transformed_cell` argument and any exception that happen during thetransform in `preprocessing_exc_tuple` in IPython 7.17 and above.\n",
      "  and should_run_async(code)\n"
     ]
    }
   ],
   "source": [
    "def titles_from_category(\n",
    "    category: mwclient.listing.Category, max_depth: int\n",
    ") -> set():\n",
    "    \"\"\"Return a set of page titles in a given Wiki category and its subcategories.\"\"\"\n",
    "    titles = set()\n",
    "    for cm in category.members():\n",
    "        if type(cm) == mwclient.page.Page:\n",
    "            # ^type() used instead of isinstance() to catch match w/ no inheritance\n",
    "            titles.add(cm.name)\n",
    "        elif isinstance(cm, mwclient.listing.Category) and max_depth > 0:\n",
    "            deeper_titles = titles_from_category(cm, max_depth=max_depth - 1)\n",
    "            titles.update(deeper_titles)\n",
    "    return titles"
   ]
  },
  {
   "cell_type": "code",
   "execution_count": 71,
   "id": "315e16a9",
   "metadata": {},
   "outputs": [
    {
     "name": "stderr",
     "output_type": "stream",
     "text": [
      "C:\\Users\\hp\\anaconda3\\lib\\site-packages\\ipykernel\\ipkernel.py:287: DeprecationWarning: `should_run_async` will not call `transform_cell` automatically in the future. Please pass the result to `transformed_cell` argument and any exception that happen during thetransform in `preprocessing_exc_tuple` in IPython 7.17 and above.\n",
      "  and should_run_async(code)\n"
     ]
    }
   ],
   "source": [
    "CATEGORY_TITLE = \"Category:Financial risk\"\n",
    "WIKI_SITE = \"en.wikipedia.org\"\n",
    "# https://en.wikipedia.org/wiki/Category:Finance\n",
    "\n",
    "site = mwclient.Site(WIKI_SITE)\n",
    "category_page = site.pages[CATEGORY_TITLE]\n",
    "titles = titles_from_category(category_page, max_depth=1)\n",
    "# ^note: max_depth=1 means we go one level deep in the category tree\n",
    "#print(f\"Found {len(titles)} article titles in {CATEGORY_TITLE}.\")"
   ]
  },
  {
   "cell_type": "code",
   "execution_count": 73,
   "id": "53c6758b",
   "metadata": {},
   "outputs": [
    {
     "name": "stdout",
     "output_type": "stream",
     "text": [
      "Found 334 article titles in Category:Financial risk.\n"
     ]
    },
    {
     "name": "stderr",
     "output_type": "stream",
     "text": [
      "C:\\Users\\hp\\anaconda3\\lib\\site-packages\\ipykernel\\ipkernel.py:287: DeprecationWarning: `should_run_async` will not call `transform_cell` automatically in the future. Please pass the result to `transformed_cell` argument and any exception that happen during thetransform in `preprocessing_exc_tuple` in IPython 7.17 and above.\n",
      "  and should_run_async(code)\n"
     ]
    }
   ],
   "source": [
    "print(f\"Found {len(titles)} article titles in {CATEGORY_TITLE}.\")"
   ]
  },
  {
   "cell_type": "code",
   "execution_count": 77,
   "id": "767db60b",
   "metadata": {},
   "outputs": [
    {
     "name": "stderr",
     "output_type": "stream",
     "text": [
      "C:\\Users\\hp\\anaconda3\\lib\\site-packages\\ipykernel\\ipkernel.py:287: DeprecationWarning: `should_run_async` will not call `transform_cell` automatically in the future. Please pass the result to `transformed_cell` argument and any exception that happen during thetransform in `preprocessing_exc_tuple` in IPython 7.17 and above.\n",
      "  and should_run_async(code)\n"
     ]
    },
    {
     "data": {
      "text/plain": [
       "{'1991 Indian economic crisis',\n",
       " '2007–2008 financial crisis',\n",
       " '80:125 rule',\n",
       " 'Absorbing barrier (finance)',\n",
       " 'Acceptance set',\n",
       " 'Actuarial science',\n",
       " 'Additional insured',\n",
       " 'Advanced IRB',\n",
       " 'Adverse selection',\n",
       " 'Alternative risk transfer',\n",
       " 'Altman Z-score',\n",
       " 'Annualized loss expectancy',\n",
       " 'Asset and liability management',\n",
       " 'Asset-backed commercial paper program',\n",
       " 'Automotive warranty',\n",
       " 'Bank run',\n",
       " 'Banking book',\n",
       " 'Barnewall Two-way Model',\n",
       " 'Basel III',\n",
       " 'Basis risk',\n",
       " 'Beneish M-score',\n",
       " 'Betavexity',\n",
       " 'Bielard, Biehl and Kaiser five-way model',\n",
       " 'Bond credit rating',\n",
       " 'Bonus–malus',\n",
       " 'CAMELS rating system',\n",
       " 'CS01',\n",
       " 'Cancellation (insurance)',\n",
       " 'Capital asset pricing model',\n",
       " 'Capital requirement',\n",
       " 'Cascades in financial networks',\n",
       " 'Cascading failure',\n",
       " 'Cash flow at risk',\n",
       " 'Cash flow hedge',\n",
       " 'Cash value',\n",
       " 'Cashflow matching',\n",
       " 'Cell captive',\n",
       " 'Central Insurance of Iran',\n",
       " 'Central counterparty clearing',\n",
       " 'Chan–Karolyi–Longstaff–Sanders process',\n",
       " 'Climate risk',\n",
       " 'Co-insurance',\n",
       " 'Coherent risk measure',\n",
       " 'Collar (finance)',\n",
       " 'Commodity risk',\n",
       " 'Compulsory Earthquake Insurance',\n",
       " 'Concentration risk',\n",
       " 'Condition of average',\n",
       " 'Consistent pricing process',\n",
       " 'Constant maturity credit default swap',\n",
       " 'Constant proportion portfolio insurance',\n",
       " 'Consumer credit risk',\n",
       " 'Contingent convertible bond',\n",
       " 'Counter party risk',\n",
       " 'Counterparty credit risk',\n",
       " 'Credibility theory',\n",
       " 'Credit Exposure',\n",
       " 'Credit analysis',\n",
       " 'Credit conversion factor',\n",
       " 'Credit default option',\n",
       " 'Credit default risk',\n",
       " 'Credit default swap',\n",
       " 'Credit derivative',\n",
       " 'Credit event',\n",
       " 'Credit reference',\n",
       " 'Credit risk',\n",
       " 'Credit spread (bond)',\n",
       " 'Credit spread curve',\n",
       " 'Credit valuation adjustment',\n",
       " 'Credit-linked note',\n",
       " 'Currency analytics',\n",
       " 'Currency risk',\n",
       " 'Current exposure method',\n",
       " 'DPVAT',\n",
       " 'Death spiral (insurance)',\n",
       " 'Deductible',\n",
       " 'Default (finance)',\n",
       " 'Deposit bond',\n",
       " 'Deposit premium',\n",
       " 'Deposit risk',\n",
       " 'Deviation risk measure',\n",
       " 'Discounted maximum loss',\n",
       " 'Distortion risk measure',\n",
       " 'Diversification (finance)',\n",
       " 'Dividend policy',\n",
       " 'Dodd–Frank Wall Street Reform and Consumer Protection Act',\n",
       " 'Dogs of the Dow',\n",
       " 'Downside beta',\n",
       " 'Downside risk',\n",
       " 'Drawdown (economics)',\n",
       " 'Dual-beta',\n",
       " 'Dubai housing crash in 2009',\n",
       " 'Duration gap',\n",
       " 'Dynamic financial analysis',\n",
       " 'Dynamic risk measure',\n",
       " 'Earnings at risk',\n",
       " 'Economic Growth, Regulatory Relief, and Consumer Protection Act',\n",
       " 'Economic capital',\n",
       " 'Electricity price area',\n",
       " 'Endogenous risk',\n",
       " 'Entropic risk measure',\n",
       " 'Entropic value at risk',\n",
       " 'Equity risk',\n",
       " 'European Market Infrastructure Regulation',\n",
       " 'European Systemic Risk Board',\n",
       " 'Everything bubble',\n",
       " 'Expected loss',\n",
       " 'Expected return',\n",
       " 'Expected shortfall',\n",
       " 'Exponential utility',\n",
       " 'Exposure at default',\n",
       " 'Exposure factor',\n",
       " 'Extended warranty',\n",
       " 'External risk',\n",
       " 'Extreme value theory',\n",
       " 'FASB 133',\n",
       " 'Fama–French three-factor model',\n",
       " 'Favourite-longshot bias',\n",
       " 'Fence (finance)',\n",
       " 'Financial Crisis Inquiry Commission',\n",
       " 'Financial Stability Board',\n",
       " 'Financial Stability Oversight Council',\n",
       " 'Financial condition report',\n",
       " 'Financial crisis',\n",
       " 'Financial market infrastructure',\n",
       " 'Financial risk',\n",
       " 'Financial risk management',\n",
       " 'Financial risk modeling',\n",
       " 'Fixed annuity',\n",
       " 'Fixed bill',\n",
       " 'Foreign exchange hedge',\n",
       " 'Foreign exchange risk',\n",
       " 'Foundation IRB',\n",
       " 'Fractional-reserve banking',\n",
       " 'Fuel price risk management',\n",
       " 'Fundamental Review of the Trading Book',\n",
       " 'General account',\n",
       " 'Government risk',\n",
       " 'GovernmentRisk360',\n",
       " 'Gross dealer concession',\n",
       " 'Hazard function',\n",
       " 'Hazard rate',\n",
       " 'Hedge (finance)',\n",
       " 'Hedge effectiveness',\n",
       " 'Hedge relationship',\n",
       " 'High-yield debt',\n",
       " 'Historical simulation (finance)',\n",
       " 'Holding period risk',\n",
       " 'Home warranty',\n",
       " 'Hyperbolic absolute risk aversion',\n",
       " 'IAS 39',\n",
       " 'ICE Clear Credit',\n",
       " 'IFRS 17',\n",
       " 'IFRS 4',\n",
       " 'IFRS 9',\n",
       " 'ITraxx',\n",
       " 'Idiosyncratic risk',\n",
       " 'Immunization (finance)',\n",
       " 'Impairment (financial reporting)',\n",
       " 'Independent insurance agent',\n",
       " 'Infection ratio',\n",
       " 'Insurance',\n",
       " 'Insurance Distribution Directive',\n",
       " 'Insurance archaeology',\n",
       " 'Insurance as regulation',\n",
       " 'Insurance bond',\n",
       " 'Insurance broker',\n",
       " 'Insurance cycle',\n",
       " 'Insurance policy',\n",
       " 'Insurance-linked security',\n",
       " 'Interest rate risk',\n",
       " 'Internal models approach (market risk)',\n",
       " 'Internal ratings-based approach (credit risk)',\n",
       " 'International lender of last resort',\n",
       " 'Investment control',\n",
       " 'Isoelastic utility',\n",
       " 'Jarrow–Turnbull model',\n",
       " 'KMV model',\n",
       " 'Knock-for-knock agreement',\n",
       " 'LabEx ReFi - European Laboratory on Financial Regulation',\n",
       " 'Legal Entity Identifier',\n",
       " 'Legal risk',\n",
       " 'Leverage (finance)',\n",
       " 'Leverage ratio',\n",
       " 'Libor-OIS spread',\n",
       " 'Liquidity at risk',\n",
       " 'Liquidity risk',\n",
       " 'List of bank stress tests',\n",
       " 'List of systemically important banks',\n",
       " 'Loan credit default swap index',\n",
       " 'Loan line sheet',\n",
       " 'Loss given default',\n",
       " 'Loss ratio',\n",
       " 'Loss run',\n",
       " 'Macro risk',\n",
       " 'Macroprudential regulation',\n",
       " 'Managing general agent',\n",
       " 'Margin (finance)',\n",
       " 'Margin at risk',\n",
       " 'Margining risk',\n",
       " 'Market portfolio',\n",
       " 'Market risk',\n",
       " 'Markets in Financial Instruments Directive 2014',\n",
       " 'Matching adjustment',\n",
       " 'Maximum downside exposure',\n",
       " 'Merton model',\n",
       " 'MetLife Inc. v. Financial Stability Oversight Council',\n",
       " 'MetLife Nepal',\n",
       " 'Mid-term adjustment',\n",
       " 'Minsky moment',\n",
       " 'Model risk',\n",
       " 'Modern portfolio theory',\n",
       " 'Moral hazard',\n",
       " 'Mortgage underwriting',\n",
       " 'Multiple factor models',\n",
       " 'Nepal Reinsurance Company Limited',\n",
       " 'Non-financial risk',\n",
       " 'Nuclear exclusion clause',\n",
       " 'ORRF Risk Research Forum',\n",
       " 'Ohlson O-score',\n",
       " 'Omega ratio',\n",
       " 'Over-the-counter (finance)',\n",
       " 'Own risk and solvency assessment',\n",
       " 'PAUG',\n",
       " 'Pension buyout',\n",
       " 'Piotroski F-score',\n",
       " 'PnL explained',\n",
       " 'Premium financing',\n",
       " 'Principled reasoning',\n",
       " 'Privatized foreign currency risk',\n",
       " 'Probability of default',\n",
       " 'Probable maximum loss',\n",
       " 'Product control',\n",
       " 'Profit at risk',\n",
       " 'Profit risk',\n",
       " 'Property Losses (Ireland) Committee',\n",
       " 'Provisions of the Dodd–Frank Wall Street Reform and Consumer Protection Act',\n",
       " 'Rastriya Jeevan Beema Company Limited',\n",
       " 'Rate risk',\n",
       " 'Recovery swap',\n",
       " 'Redlining',\n",
       " 'Refinancing risk',\n",
       " 'Reimbursement',\n",
       " 'Reinvestment risk',\n",
       " 'Repricing risk',\n",
       " 'Reputational damage',\n",
       " 'Richard Bookstaber',\n",
       " 'Risk aversion',\n",
       " 'Risk financing',\n",
       " 'Risk measure',\n",
       " 'Risk metric',\n",
       " 'Risk neutral preferences',\n",
       " 'Risk of ruin',\n",
       " 'Risk pool',\n",
       " 'Risk premium',\n",
       " 'Risk-adjusted return on capital',\n",
       " 'Risk-free bond',\n",
       " 'Risk-free rate',\n",
       " 'Risk-neutral measure',\n",
       " 'Risk-seeking',\n",
       " 'Risk-weighted asset',\n",
       " 'RiskLab',\n",
       " 'RiskMetrics',\n",
       " 'Rome Italia Johnson',\n",
       " \"Roy's safety-first criterion\",\n",
       " 'Securitization',\n",
       " 'Security agreement',\n",
       " 'Security interest',\n",
       " 'Separate account',\n",
       " 'Settlement risk',\n",
       " 'Shape risk',\n",
       " 'Single-loss expectancy',\n",
       " 'Smith–Wilson method',\n",
       " 'Social insurance',\n",
       " 'Solvency cone',\n",
       " 'Specific risk',\n",
       " 'Spectral risk measure',\n",
       " 'Standardised method (credit risk)',\n",
       " 'Standardized approach (counterparty credit risk)',\n",
       " 'Standardized approach (credit risk)',\n",
       " 'Standardized approach (market risk)',\n",
       " 'State disability benefits',\n",
       " 'State prices',\n",
       " 'Stress test (financial)',\n",
       " 'Structured settlement',\n",
       " 'Structured settlement factoring transaction',\n",
       " 'Student Investment Advisory Service',\n",
       " 'Student managed investments',\n",
       " 'Superhedging price',\n",
       " 'Swap spread',\n",
       " 'Swiss Union of Arts and Crafts',\n",
       " 'Swiss annuity',\n",
       " 'Systematic risk',\n",
       " 'Systemic Risk Council',\n",
       " 'Systemic risk',\n",
       " 'Systemically Important Payment System',\n",
       " 'Systemically important financial institution',\n",
       " 'Systemically important financial market utility',\n",
       " 'Tactical asset allocation',\n",
       " 'Tail risk',\n",
       " 'Tail value at risk',\n",
       " 'Taleb distribution',\n",
       " 'Task Force on Climate-related Financial Disclosures',\n",
       " 'The Journal of Credit Risk',\n",
       " 'Time at risk',\n",
       " 'Time consistency (finance)',\n",
       " 'Too connected to fail',\n",
       " 'Total Loss Absorbency Capacity',\n",
       " 'Total loss',\n",
       " 'Total return swap',\n",
       " 'Tracking error',\n",
       " 'Trading book',\n",
       " 'Trading room',\n",
       " 'Troubled Asset Relief Program',\n",
       " 'Two-moment decision model',\n",
       " 'Underinsured',\n",
       " 'Underwriting profit',\n",
       " 'Upside beta',\n",
       " 'Upside risk',\n",
       " 'Valuation risk',\n",
       " 'Value at risk',\n",
       " 'Value investing',\n",
       " 'Vehicle insurance in France',\n",
       " 'Volatility beta',\n",
       " 'Volatility risk',\n",
       " 'Volcker Rule',\n",
       " 'Volume risk',\n",
       " 'War exclusion clause',\n",
       " 'Wet Blanket Policy',\n",
       " 'Wrong way risk',\n",
       " 'XVA',\n",
       " 'Year loss table',\n",
       " 'Yield spread',\n",
       " 'Z-spread'}"
      ]
     },
     "execution_count": 77,
     "metadata": {},
     "output_type": "execute_result"
    }
   ],
   "source": [
    "titles"
   ]
  },
  {
   "cell_type": "code",
   "execution_count": 81,
   "id": "b4938fc0",
   "metadata": {},
   "outputs": [
    {
     "name": "stderr",
     "output_type": "stream",
     "text": [
      "C:\\Users\\hp\\anaconda3\\lib\\site-packages\\ipykernel\\ipkernel.py:287: DeprecationWarning: `should_run_async` will not call `transform_cell` automatically in the future. Please pass the result to `transformed_cell` argument and any exception that happen during thetransform in `preprocessing_exc_tuple` in IPython 7.17 and above.\n",
      "  and should_run_async(code)\n"
     ]
    },
    {
     "data": {
      "text/plain": [
       "{'1991 Indian economic crisis'}"
      ]
     },
     "execution_count": 81,
     "metadata": {},
     "output_type": "execute_result"
    }
   ],
   "source": [
    "titles1"
   ]
  },
  {
   "cell_type": "code",
   "execution_count": 98,
   "id": "dcce3687",
   "metadata": {},
   "outputs": [
    {
     "name": "stderr",
     "output_type": "stream",
     "text": [
      "C:\\Users\\hp\\anaconda3\\lib\\site-packages\\ipykernel\\ipkernel.py:287: DeprecationWarning: `should_run_async` will not call `transform_cell` automatically in the future. Please pass the result to `transformed_cell` argument and any exception that happen during thetransform in `preprocessing_exc_tuple` in IPython 7.17 and above.\n",
      "  and should_run_async(code)\n"
     ]
    }
   ],
   "source": [
    "SECTIONS_TO_IGNORE = [\n",
    "    \"See also\",\n",
    "    \"References\",\n",
    "    \"External links\",\n",
    "    \"Further reading\",\n",
    "    \"Footnotes\",\n",
    "    \"Bibliography\",\n",
    "    \"Sources\",\n",
    "    \"Citations\",\n",
    "    \"Literature\",\n",
    "    \"Footnotes\",\n",
    "    \"Notes and references\",\n",
    "    \"Photo gallery\",\n",
    "    \"Works cited\",\n",
    "    \"Photos\",\n",
    "    \"Gallery\",\n",
    "    \"Notes\",\n",
    "    \"References and sources\",\n",
    "    \"References and notes\",\n",
    "]"
   ]
  },
  {
   "cell_type": "code",
   "execution_count": 113,
   "id": "46edd0a4",
   "metadata": {},
   "outputs": [
    {
     "name": "stderr",
     "output_type": "stream",
     "text": [
      "C:\\Users\\hp\\anaconda3\\lib\\site-packages\\ipykernel\\ipkernel.py:287: DeprecationWarning: `should_run_async` will not call `transform_cell` automatically in the future. Please pass the result to `transformed_cell` argument and any exception that happen during thetransform in `preprocessing_exc_tuple` in IPython 7.17 and above.\n",
      "  and should_run_async(code)\n"
     ]
    }
   ],
   "source": [
    "def all_subsections_from_section(\n",
    "    section: mwparserfromhell.wikicode.Wikicode,\n",
    "    parent_titles: list,\n",
    "    sections_to_ignore: set,\n",
    ") -> list:\n",
    "    \"\"\"\n",
    "    From a Wikipedia section, return a flattened list of all nested subsections.\n",
    "    Each subsection is a tuple, where:\n",
    "        - the first element is a list of parent subtitles, starting with the page title\n",
    "        - the second element is the text of the subsection (but not any children)\n",
    "    \"\"\"\n",
    "    headings = [str(h) for h in section.filter_headings()]\n",
    "    title = headings[0]\n",
    "    if title.strip(\"=\" + \" \") in sections_to_ignore:\n",
    "        # ^wiki headings are wrapped like \"== Heading ==\"\n",
    "        return []\n",
    "    titles = parent_titles + [title]\n",
    "    full_text = str(section)\n",
    "    section_text = full_text.split(title)[1]\n",
    "    if len(headings) == 1:\n",
    "        return [(titles, section_text)]\n",
    "    else:\n",
    "        first_subtitle = headings[1]\n",
    "        section_text = section_text.split(first_subtitle)[0]\n",
    "        results = [(titles, section_text)]\n",
    "        for subsection in section.get_sections(levels=[len(titles) + 1]):\n",
    "            results.extend(all_subsections_from_section(subsection, titles, sections_to_ignore))\n",
    "        return results\n",
    "\n",
    "\n",
    "def all_subsections_from_title(\n",
    "    title: str,\n",
    "    sections_to_ignore: set = SECTIONS_TO_IGNORE,\n",
    "    site_name: str = WIKI_SITE,\n",
    ") -> list:\n",
    "    \"\"\"From a Wikipedia page title, return a flattened list of all nested subsections.\n",
    "    Each subsection is a tuple, where:\n",
    "        - the first element is a list of parent subtitles, starting with the page title\n",
    "        - the second element is the text of the subsection (but not any children)\n",
    "    \"\"\"\n",
    "    site = mwclient.Site(site_name)\n",
    "    page = site.pages[title]\n",
    "    text = page.text()\n",
    "    print(\"text: \",text)\n",
    "    parsed_text = mwparserfromhell.parse(text)\n",
    "    headings = [str(h) for h in parsed_text.filter_headings()]\n",
    "    if headings:\n",
    "        summary_text = str(parsed_text).split(headings[0])[0]\n",
    "    else:\n",
    "        summary_text = str(parsed_text)\n",
    "    results = [([title], summary_text)]\n",
    "#     for subsection in parsed_text.get_sections(levels=[2]):\n",
    "#         results.extend(all_subsections_from_section(subsection, [title], sections_to_ignore))\n",
    "    return results"
   ]
  },
  {
   "cell_type": "code",
   "execution_count": 114,
   "id": "484ade1f",
   "metadata": {},
   "outputs": [
    {
     "name": "stderr",
     "output_type": "stream",
     "text": [
      "C:\\Users\\hp\\anaconda3\\lib\\site-packages\\ipykernel\\ipkernel.py:287: DeprecationWarning: `should_run_async` will not call `transform_cell` automatically in the future. Please pass the result to `transformed_cell` argument and any exception that happen during thetransform in `preprocessing_exc_tuple` in IPython 7.17 and above.\n",
      "  and should_run_async(code)\n"
     ]
    },
    {
     "name": "stdout",
     "output_type": "stream",
     "text": [
      "text:  {{Short description|Indian economic crisis of 1991}}\n",
      "{{Use dmy dates|date=May 2020}}\n",
      "{{Use Indian English|date=July 2015}}\n",
      "The '''1991 Indian economic crisis''' was an economic crisis in India resulting from a [[balance of payments]] deficit due to excess reliance on imports and other external factors.<ref>{{cite web | url=https://www.imf.org/external/pubs/ft/staffp/2002/03/pdf/cerra.pdf | title=What Caused the 1991 Currency Crisis in India? | publisher=International Monetary Fund | work=VALERIE CERRA and SWETA CHAMAN SAXENA | access-date=7 May 2023}}</ref> India's economic problems started worsening in 1985 as imports swelled, leaving the country in a [[twin deficit]]: the Indian trade balance was in deficit at a time when the government was running on a huge fiscal deficit (although the twin-deficit hypothesis is disputed).<ref name=\"originalreport\">{{cite web |title=India - Structural Adjustment Credit Project (English) - Presidents report |url=http://documents.worldbank.org/curated/en/999451468260069468/India-Structural-Adjustment-Credit-Project |website=documents.worldbank.org |publisher=World bank |access-date=30 October 2018}}</ref>\n",
      "\n",
      "The fall of the [[Eastern Bloc]], which had trade relations with India and allowed for rupee exchange, posed significant issues. Towards the end of 1990, leading up to the Gulf War, the situation became dire. India's foreign exchange reserves were not enough to finance three weeks' worth of imports. Additionally, the Iraq-Kuwait conflict caused a significant shift in the trade deficit as India relied on these nations for crude oil. The surge in crude oil prices further exacerbated the imbalance in India's balance of payments. Meanwhile, the government was on the brink of defaulting on its financial obligations. In July of that year, the rupee experienced a sharp depreciation/devaluation due to the low reserves, which further worsened the twin deficit problem.<ref name=\"auto\">{{cite web|url=https://www.imf.org/external/pubs/ft/staffp/2002/03/pdf/cerra.pdf|title=What Caused the 1991 Currency Crisis in India?|website=International Monetary Fund|publisher=VALERIE CERRA and SWETA CHAMAN SAXENA}}</ref>\n",
      "\n",
      "In February 1991, the [[Chandra Shekhar ministry|Chandrasekhar government]] was unable to pass the budget after [[Moody's Investors Service|Moody's]] downgraded India's bond ratings.<ref>{{cite web |author=Yashwant Sinha |author-link=Yashwant Sinha |date=29 July 2016 |title=1991, the untold story |url=https://www.thehindu.com/opinion/op-ed/1991-the-untold-story/article14513325.ece |access-date=21 December 2018 |work=The Hindu}}</ref> The ratings declined further due to the unsuccessful passage of the budget, making it increasingly challenging and expensive for India to borrow money from international capital markets. This placed additional pressure on the country's economy.<ref name=\":0\">{{cite web |date=20 January 2013 |title=Two months that changed India |url=https://www.business-standard.com/article/beyond-business/two-months-that-changed-india-111070200041_1.html |access-date=3 August 2021 |publisher=[[Business Standard]]}}</ref> The International Monetary Fund ([[IMF]]) suspended its loan program to India, and the [[World Bank]] also discontinued its assistance. These actions limited the government's options to address the crisis and forced it to take drastic measures to avoid defaulting on its payments.<ref>{{cite web |author=Deepak Nayar |date=18 October 2016 |title=How the economy found its feet |url=https://www.thehindu.com/opinion/op-ed/How-the-economy-found-its-feet/article14506275.ece |access-date=21 December 2018 |work=The Hindu}}</ref><ref>{{cite web |author=Shaji Vikraman |date=5 April 2017 |title=In fact: How govts pledged gold to pull economy back from the brink |url=https://indianexpress.com/article/explained/in-fact-how-govts-pledged-gold-to-pull-economy-back-from-the-brink/ |access-date=21 December 2018 |work=The Indian Express}}</ref><ref name=\"CorbridgeHarriss2013\">{{cite book |author1=Stuart Corbridge |url=https://books.google.com/books?id=ERgoAAAAQBAJ&pg=PT144 |title=Reinventing India: Liberalization, Hindu Nationalism and Popular Democracy |author2=John Harriss |publisher=Wiley |year=2013 |isbn=978-0-7456-6604-4 |page=144}}</ref>\n",
      "\n",
      "To address the economic crisis, the government implemented various measures, including the pledge of a significant portion of India's gold reserves to the Bank of England and the Union Bank of Switzerland as collateral. The aim of this move was to secure much-needed foreign exchange to meet India's debt obligations and stabilize the economy. However, this decision was not without controversy and was seen by some as a drastic and desperate move. Critics viewed the decision to mortgage the country's gold as a sign of the government's limited options and inability to manage the crisis effectively.<ref name=\"bail\">{{cite web|url=http://business.rediff.com/slide-show/2009/may/25/slide-show-5-lord-desai-on-recession-and-indian-politics.htm|title=I think a stimulus package is necessary, yes. Bailouts, no|work=Rediff News|access-date=2009-10-20}}</ref>\n",
      "\n",
      "The economic crisis created a situation where India had to accept the conditions imposed by the World Bank and IMF loan, which included structural reforms. As a result, the Indian economy was opened up to [[Economic liberalisation in India|foreign participation in various sectors, including state-owned enterprises]]. This move towards liberalization was seen by some as necessary to secure much-needed funds and prevent default on loan payments. However, it also led to concerns about the impact of foreign entities on India's economy and the potential loss of control over vital industries.<ref name=\"worldbank\">{{cite web |title=Structural adjustments in India - a reportof the Independent Evaluation Group (IEG) |url=http://lnweb90.worldbank.org/oed/oeddoclib.nsf/DocUNIDViewForJavaSearch/0586CC45A28A2749852567F5005D8C89 |website=lnweb90.worldbank.org |publisher=World bank |access-date=30 October 2018 |archive-url=https://web.archive.org/web/20190509212112/http://lnweb90.worldbank.org/oed/oeddoclib.nsf/DocUNIDViewForJavaSearch/0586CC45A28A2749852567F5005D8C89 |archive-date=9 May 2019 |url-status=dead }}</ref><ref>{{cite web|date=2010-09-17|title=How WB,IMF got India to adopt reforms in 1991|url=https://indianexpress.com/article/news-archive/web/how-wb-imf-got-india-to-adopt-reforms-in-1991/|access-date=2022-01-28|website=The Indian Express|language=en}}</ref>\n",
      "\n",
      "India's liberalization policies since 1991 have led to significant economic growth and integration into the global economy, but have also faced criticism for uneven distribution of [[Economic liberalisation in India|benefits, austerity, unemployment and negative impacts on the environment.]]<ref>{{cite web|title=World Inequality Database - India|url=https://wid.world/country/india/|url-status=live|website=World Inequality Database|archive-url=https://web.archive.org/web/20170109090419/http://wid.world:80/country/india/ |archive-date=9 January 2017 }}</ref>\n",
      "\n",
      "== Causes and conscious ==\n",
      "=== Context ===\n",
      "During the 1970s, the International Monetary Fund (IMF) began to increasingly criticise capital controls and shifted its perspective away from the belief that high unemployment was primarily due to insufficient demand. Instead, it started to emphasise the significance of 'inflexible' labor markets and other supply-side factors as the main causes of economic issues. These shifting views eventually laid the groundwork for what would be recognised as the '[[Washington Consensus]].' These set of economic liberalisation strategies were 'recommended' ([[Structural adjustment|or forced]]) upon developing nations like India by Washington, D.C based institutions, including the IMF, the World Bank, and the United States government's economic departments.<ref name=\":1\">{{Cite book |last=Chomsky |first=Noam |title=Profit over People |date=1999 |isbn=9781888363821}}</ref>\n",
      "\n",
      "The ''Volcker shock'' caused capital outflows from the developing world, causing external dollar denominated debt crises and economic slowdowns in Latin America and other developing countries, including India.<ref>{{Cite web |last=Ghosh |first=Jayati |date=2022-11-15 |title=The Monetary Tightening Trap {{!}} by Jayati Ghosh |url=https://www.project-syndicate.org/commentary/monetary-tightening-wrong-solution-for-current-inflation-by-jayati-ghosh-2022-11 |access-date=2024-02-07 |website=Project Syndicate |language=en}}</ref> This along with Gulf War oil price spike and the dissolution of the USSR and Eastern Bloc leaving the U.S. as the sole superpower gave the previously stated institutions the perfect opportunity to force its policies upon developing countries.<ref name=\":1\" />\n",
      "\n",
      "The crisis was caused by currency [[overvaluation]];<ref name=\"auto\" /> the [[current account deficit]], and investor confidence played significant role in the sharp exchange rate depreciation.<ref>[http://www.globaleconomicgovernance.org/wp-content/uploads/ghosh-pathways_india.pdf Pathways {{Webarchive|url=https://web.archive.org/web/20131025042847/http://www.globaleconomicgovernance.org/wp-content/uploads/ghosh-pathways_india.pdf |date=25 October 2013 }}, Arunabha Ghosh, Global Governance 12 (2006), 413–429.</ref><ref name=\"Ghosh\">[http://www.globaleconomicgovernance.org/wp-content/uploads/Ghosh%20-%20India.pdf India's Pathway through Financial Crisis] {{webarchive|url=https://web.archive.org/web/20111112080531/http://www.globaleconomicgovernance.org/wp-content/uploads/Ghosh%20-%20India.pdf|date=12 November 2011}}. [[Arunabha Ghosh]]. Global Economic Governance Programme. Retrieved on 2 March 2007.</ref><ref>{{cite web|url=http://findebookee.com/c/crisi-in-india|title=findebookee.com|website=findebookee.com|access-date=21 January 2019|archive-date=1 February 2014|archive-url=https://web.archive.org/web/20140201195857/http://findebookee.com/c/crisi-in-india|url-status=dead}}</ref>\n",
      "\n",
      "During the mid-eighties, India started having the balance of payments problems. Precipitated by the [[Gulf War]], India's oil import bill swelled, exports slumped, credit dried up, and investors took their money out.<ref name=\"jolt\">{{cite web|url=http://www.telegraphindia.com/1091104/jsp/frontpage/story_11697358.jsp |title=India shining, India scraping |work=The Telegraph |access-date=2009-10-20 |archive-url=https://web.archive.org/web/20091106123415/http://www.telegraphindia.com/1091104/jsp/frontpage/story_11697358.jsp |archive-date=6 November 2009 |url-status=dead}}</ref> Large fiscal deficits combined with the fixed exchange rate had a spillover effect on the trade deficit culminating in an external payments crisis. By the end of the 1980s, India was in serious economic trouble.\n",
      "[[File:External-debt-as-a-share-of-gni.png|thumb|269x269px|External debt of India (1970–2020)]]\n",
      "One of the main causes of the crisis was the accumulation of foreign debt. In the 1980s, India had borrowed heavily from international lenders, in part to finance infrastructure projects and industrialization. However, by 1991, the country was facing a severe balance of payments crisis, as it was unable to service its debt and was running out of foreign exchange reserves.<ref>{{Cite journal |last=Lipson |first=Charles |date=1981 |title=The International Organization of Third World Debt |url=https://www.jstor.org/stable/2706412 |journal=International Organization |volume=35 |issue=4 |pages=603–631 |issn=0020-8183}}</ref> There were also structural problems in the Indian economy that contributed to the crisis, including low savings and investment rates, and inadequate export growth.\n",
      "\n",
      "The foreign exchange reserves by 1991 had dried up to the point that India could barely finance three weeks worth of imports.<ref name=\"WB2\">{{cite web |title=Project proposal - Structured adjustment of India |url=http://documents.worldbank.org/curated/en/999451468260069468/India-Structural-Adjustment-Credit-Project |website=documents.worldbank.org |publisher=World Bank |access-date=30 October 2018}}</ref>\n",
      "\n",
      "In mid-1991, India's [[exchange rate]] was subjected to a severe adjustment. This event began with a slide in the value of the [[Indian rupee]] leading up to mid-1991. The authorities at the [[Reserve Bank of India]] took partial action, defending the currency by expanding international reserves and slowing the decline in value. However, in mid-1991, with foreign reserves nearly depleted, the Indian government permitted a sharp devaluation that took place in two steps within three days (1 July and 3 July 1991) against major currencies.\n",
      "\n",
      "== Recovery ==\n",
      "{{Further|Economic liberalisation in India}}\n",
      "With India's [[foreign exchange reserves]] at $1.2 billion in January 1991<ref name=\"circle\">{{cite news | url=http://timesofindia.indiatimes.com/biz/india-business/Full-circle-India-buys-200-tons-gold-from-IMF/articleshow/5194338.cms | title=Full circle: India buys 200 tons gold from IMF | work=Rediff News | date=4 November 2009 | access-date=2009-10-20 | first1=Chidanand | first2=Prabhakar | last1=Rajghatta | last2=Sinha}}</ref><ref name=\"why\">{{cite web|url=http://business.rediff.com/slide-show/2009/nov/03/slide-show-1-why-india-bought-imf-gold.htm |title=Why India bought IMF gold |work=Rediff News |access-date=2009-10-20 |archive-url=https://web.archive.org/web/20091106095241/http://business.rediff.com/slide-show/2009/nov/03/slide-show-1-why-india-bought-imf-gold.htm |archive-date=6 November 2009 |url-status=live}}</ref><ref name=\"live\">{{cite web|url=http://www.livemint.com/2009/11/02231541/RBI-to-buy-200-tonnes-of-IMF-g.html |title=RBI to buy 200 tonnes of IMF gold |work=LiveMint |access-date=2009-10-20 |archive-url=https://web.archive.org/web/20091103144537/http://www.livemint.com/2009/11/02231541/RBI-to-buy-200-tonnes-of-IMF-g.html |archive-date=3 November 2009 |url-status=live}}</ref> and depleted by half by June,<ref name=\"live\" /> barely enough to last for roughly 3 weeks of essential imports,<ref name=\"why\" /><ref name=\"pti\">{{cite web|url=http://www.ptinews.com/news/360808_RBI-s-gold-buying-has-its-own-sentimental-value--FM |title=RBI's gold buying has its own sentimental value: FM |work=PTI |access-date=2009-10-20 |archive-url=https://web.archive.org/web/20091106120333/http://www.ptinews.com/news/360808_RBI-s-gold-buying-has-its-own-sentimental-value--FM |archive-date=6 November 2009 |url-status=live}}</ref> India was only weeks away from defaulting on its external balance of payment obligations.<ref name=\"why\" /><ref name=\"live\" />\n",
      "\n",
      "[[Government of India]]'s immediate response was to secure an emergency loan of $2.2 billion<ref>{{cite book|last=Meredith|first=Robyn|title=The Elephant and the Dragon|year=2007|publisher=W. W. Norton & Company|isbn=978-0-393-06236-6|url-access=registration|url=https://archive.org/details/elephantdragonri00mere_0}}</ref><ref name=\"buy\">{{cite web|url=http://www.thehindubusinessline.com/2009/11/04/stories/2009110452340100.htm |title=RBI buys 200 tonnes of gold from MF |work=The Hindu |access-date=2009-10-20 |archive-url=https://web.archive.org/web/20091106104709/http://www.thehindubusinessline.com/2009/11/04/stories/2009110452340100.htm |archive-date=6 November 2009 |url-status=dead}}</ref><ref name=\"WB Doc\">{{cite web|url=http://www-wds.worldbank.org/external/default/WDSContentServer/WDSP/IB/1991/08/23/000009265_3960930195417/Rendered/PDF/multi0page.pdf|title=1991 Country Economic Memorandum|work=World Bank|publisher=India Country Department}}</ref> from the [[International Monetary Fund]] by pledging 67 tons of India's gold reserves as collateral security.<ref name=\"bail\" /><ref name=\"buy\" /> The [[Reserve Bank of India]] had to airlift 47 tons of gold to the [[Bank of England]]<ref name=\"jolt\" /><ref name=\"circle\" /> and 20 tons of gold to the [[Union Bank of Switzerland]] to raise $600 million.<ref name=\"jolt\" /><ref name=\"circle\" /><ref name=\"swadeshi\">{{cite web|url=http://www.rediff.com/money/1998/apr/29fm.htm|title=Only Indians, not foreigners, are exercised over swadeshi: FM|work=Rediff News|access-date=2009-10-20}}</ref> &nbsp;During the transport of the gold reserves to the airport, the van experienced a tyre burst and caused panic.<ref>{{cite web | url=https://economictimes.indiatimes.com/news/economy/finance/when-47-tonnes-of-gold-was-in-the-middle-of-road/articleshow/59447917.cms | title=When 47 tonnes of gold was in the middle of road | work=[[The Economic Times]] |author=Gayatri Nayak | date=5 July 2017 | access-date=21 May 2019}}</ref><ref name=\"Rawal2018\">{{cite book|author=Dr. Tejinder Singh Rawal|title=Loads of Money: Guide to Intelligent Stock Market Investing: Common Sense Strategies for Wealth Creation|url=https://books.google.com/books?id=To-BDwAAQBAJ&pg=PT239|date=20 December 2018|publisher=Partridge Publishing India|isbn=978-1-5437-0457-0|page=239}}</ref><ref name=\"bail\" /> The government, in the midst of the 1991 Indian General Elections, conducted the airlift with secrecy.<ref>{{cite web | url=https://indianexpress.com/article/explained/in-fact-how-govts-pledged-gold-to-pull-economy-back-from-the-brink/ | title=In fact: How govts pledged gold to pull economy back from the brink | work=The Indian Express|author=Shaji Vikraman | date=5 April 2017 | access-date=21 May 2019}}</ref> The news of the government pledging the entire gold reserves against the loan outraged national sentiments and caused a public outcry.<ref name=\"jolt\" /><ref name=\"pti\" /> The gold was transported to London via a chartered plane from May 21 to May 31, 1991.<ref name=\"jolt\" /> The Chandra Shekhar government, which authorised the airlift, had collapsed a few months later.<ref name=\"jolt\" /> This move was seen as prioritising the balance of payment crisis over the welfare of the Indian people and kick-started [[P. V. Narasimha Rao|P.V. Narasimha Rao]]'s economic reform process.<ref name=\"circle\" /> Later on 31 May 2024 (during BJP rule under election time), the RBI has moved back its 100 Tonnes of Gold Reserves from UK to India for the first time since 1991 and by this process, India started holding most of the gold reserves in its own vaults.<ref>{{Cite web |last=ANI |date=2024-05-31 |title=RBI brings back 100 tonnes of gold reserves from UK vaults |url=https://www.thehindubusinessline.com/markets/gold/rbi-brings-back-100-tonnes-of-gold-reserves-from-uk-to-india/article68235376.ece |access-date=2024-05-31 |website=BusinessLine |language=en}}</ref><ref>{{Cite news |date=2024-05-31 |title=RBI moves 100 tonnes gold from UK to its vaults in India |url=https://timesofindia.indiatimes.com/business/india-business/rbi-moves-100-tonnes-gold-from-uk-to-its-vaults-in-india/articleshow/110574276.cms |access-date=2024-05-31 |work=The Times of India |issn=0971-8257}}</ref><ref>{{Cite news |date=2024-05-31 |title=RBI moves 1 lakh kg of gold from UK back to India, first such move of this quantum since 1991 |url=https://economictimes.indiatimes.com/news/economy/indicators/rbi-moves-1-lakh-kg-of-gold-from-uk-back-to-india-first-such-move-of-this-quantum-since-1991/articleshow/110581597.cms?from=mdr |access-date=2024-05-31 |work=The Economic Times |issn=0013-0389}}</ref>\n",
      "\n",
      "=== Under the Narasimha Rao government===\n",
      "[[P. V. Narasimha Rao]] took over as [[Prime Minister of India|Prime Minister]] in June, and appointed [[Manmohan Singh]] as [[Finance Minister of India|Finance Minister]].<ref name=\"jolt\" /> The [[Rao ministry|Narasimha Rao government]] ushered in several reforms that are collectively referred to as [[Economic liberalisation in India#Narasimha Rao government (1991–1996)|liberalisation]] in the Indian [[Mass media|media]].\n",
      "\n",
      "The reforms formally began on 1 July 1991 when RBI devalued the rupee by 9% and by a further 11% on 3 July. It was done in two doses to test the reaction of the market first by making a smaller depreciation of 9%.<ref>{{cite web|url=https://www.livemint.com/Money/08f2pqhy1c2Yh2OYTItwDL/Indias-tryst-with-currency-devaluation.html|title=India's tryst with currency devaluation|website=livemint.com}}</ref> The economic reforms pushed by Prime Minister Rao were met with significant opposition from those who believed that they were an interference with India's autonomy. The speech made by then Prime Minister Rao, a week after taking office, emphasized the need for these reforms. As reported by the New York Times, \"Mr. Rao, who was sworn in as Prime Minister last week, has already sent a signal to the nation—as well as the I.M.F.—that India faced no \"soft options\" and must open the door to foreign investment, reduce the bureaucratic red tape that stifles initiative, and streamline industrial policy.\"<ref>[https://www.nytimes.com/1991/06/29/world/economic-crisis-forcing-once-self-reliant-india-to-seek-aid.html Economic Crisis Forcing Once Self-Reliant India to Seek Aid], New York Times, 29 June 1991</ref>\n",
      "\n",
      "== Aftermath ==\n",
      "{{See also|Economic liberalisation in India#Criticisms}}\n",
      "Since the implementation of economic reforms in 1991, India has experienced substantial economic growth and has emerged as a prominent participant in the global economy. The liberalization policies of the Indian government have facilitated this growth by attracting foreign investments, increasing trade relations, and promoting domestic economic reforms.\n",
      "\n",
      "However, while some argue that these policies have benefited India, there are criticisms that suggest otherwise. Some experts argue that the growth has been uneven, and the benefits of liberalization policies have not been equally distributed across the country. Inequality has increased as the divide between the rich and poor has widened, and marginalized communities have been left behind. Additionally, some have argued that liberalization policies have had negative impacts on the environment and have not addressed issues related to sustainability and social justice.<ref>{{cite web |date=2018-04-04 |title=Gini of wealth in India in 2017 is at 0.83, which puts India among countries with high inequality – |url=https://counterview.org/2018/04/04/gini-of-wealth-in-india-in-2017-is-at-0-83-which-puts-india-among-countries-with-high-inequality/ |access-date=2022-04-14 |publisher=Counterview.org}}</ref>\n",
      "\n",
      "Despite these criticisms, the Indian government continues to promote liberalization policies and seeks to further integrate into the global economy. The success of these policies remains a subject of debate and continues to be a significant point of discussion among policymakers, economists, and civil society groups.\n",
      "\n",
      "India's [[Economy of India|gross domestic product]] (GDP), adjusted for inflation, increased from $266 billion in 1991 to $3.7 trillion in 2023, while its purchasing power parity increased from $1 trillion in 1991 to $13 trillion in 2023.\n",
      "\n",
      "Poverty has declined steeply from 55.1% in 2005–06 to 16.4% in 2019–20.<ref>{{Cite web |last=Jain |first=Tejas |date=Dec 31, 2022 |title=Poverty to happiness: How India was rated by various global indices in 2022 |url=https://indianexpress.com/article/india/india-global-index-2022-8339997/#:~:text=Global%20Multidimensional%20Poverty%20Index%3A%20According,per%20cent%20over%20this%20period. |website=The Indian Express}}</ref> In addition to the economic growth and development, access to basic necessities such as food, shelter, and healthcare have drastically improved for people in India. Additionally, life expectancy has consistently improved from an average of 58.7 years in 1990 to an average of 67.2 in 2021.<ref>{{Cite web |title=Life expectancy |url=https://ourworldindata.org/grapher/life-expectancy |access-date=2023-06-22 |website=Our World in Data}}</ref> However, it is to be noted that life expectancy increased at roughly the same rate even before liberalisation.\n",
      "\n",
      "These challenges while not unique to developing countries, are being addressed considerably well by India over the last few decades. The Indian government has implemented various policies to address these issues, such as poverty alleviation programs, healthcare initiatives, and education reforms. While progress has been significant, there is room for more to promote sustainable development in India.<ref>{{Cite web |last=Pioneer |first=The |title=India’s life expectancy rate less than world's average |url=https://www.dailypioneer.com/2021/state-editions/india---s-life-expectancy-rate-less-than-world-s-average.html |access-date=2023-01-03 |website=The Pioneer |language=en}}</ref>\n",
      "\n",
      "=== Continued current account deficit ===\n",
      "Despite implementing liberal reforms in 1991, India has been unable to eliminate its current account deficit. In contrast to countries like China and Vietnam, which have managed to achieve a surplus, India continues to face this imbalance. Consequently, India relies on foreign capital inflows in the form of [[foreign direct investment]] (FDI) and [[foreign portfolio investment]] (FPI) to meet its balance of payments requirements. However, this dependence on foreign investment makes India more susceptible to external shocks.\n",
      "\n",
      "An example of such vulnerability is the potential impact of the U.S. Federal Reserve raising interest rates. In the event of a rate hike, foreign investors in \"risky\" emerging markets like India may redirect their investments towards \"safe\" markets such as Europe and the U.S. As a result, these investors would sell their assets denominated in Indian rupees in exchange for foreign currency assets. Consequently, India's foreign exchange reserves would diminish, and the value of the rupee would weaken and imports would become more expensive.<ref>{{Cite web |title=Tapering in a time of conflict: Trade and Development Report Update (March 2022) |url=https://unctad.org/publication/tapering-time-conflict-trade-and-development-report-update-march-2022 |access-date=2023-05-23 |website=UNCTAD |language=en}}</ref>\n",
      "\n",
      "== See also ==\n",
      "*[[Economic liberalisation in India]]\n",
      "*[[Corruption in India]]\n",
      "*[[Economic history of India]]\n",
      "*[[Economy of India]]\n",
      "*[[Licence Raj]]\n",
      "\n",
      "== References ==\n",
      "{{reflist|30em}}\n",
      "\n",
      "{{Financial crises}}\n",
      "{{Economy of India}}\n",
      "{{Portal bar|Business and economics|Money|Banks}}\n",
      "\n",
      "{{DEFAULTSORT:1991 India Economic Crisis}}\n",
      "[[Category:1990s in economic history]]\n",
      "[[Category:1991 disasters in Asia]]\n",
      "[[Category:1991 in Asia]]\n",
      "[[Category:1991 in economic history]]\n",
      "[[Category:1991 in international relations]]\n",
      "[[Category:Economic history of India]]\n",
      "[[Category:Economy of India]]\n",
      "[[Category:History of the Republic of India]]\n",
      "[[Category:1991 in India|India Economic Crisis, 1991]]\n",
      "[[Category:Rao administration]]\n",
      "[[Category:Crisis]]\n",
      "[[Category:Chandra Shekhar administration]]\n",
      "[[Category:Economic collapses]]\n",
      "[[Category:Economic crises]]\n",
      "[[Category:Financial crises]]\n",
      "[[Category:Business failures]]\n",
      "[[Category:Stock market crashes]]\n",
      "[[Category:Systemic risk]]\n",
      "[[Category:Samajwadi Janata Party (Rashtriya)]]\n",
      "[[Category:1991 in Indian economy]]\n",
      "Found 1 sections in 334 pages.\n"
     ]
    }
   ],
   "source": [
    "# split pages into sections\n",
    "# may take ~1 minute per 100 articles\n",
    "wikipedia_sections = []\n",
    "for title in titles1:\n",
    "    wikipedia_sections.extend(all_subsections_from_title(title))\n",
    "print(f\"Found {len(wikipedia_sections)} sections in {len(titles)} pages.\")"
   ]
  },
  {
   "cell_type": "code",
   "execution_count": 103,
   "id": "41a9bf6f",
   "metadata": {},
   "outputs": [
    {
     "name": "stderr",
     "output_type": "stream",
     "text": [
      "C:\\Users\\hp\\anaconda3\\lib\\site-packages\\ipykernel\\ipkernel.py:287: DeprecationWarning: `should_run_async` will not call `transform_cell` automatically in the future. Please pass the result to `transformed_cell` argument and any exception that happen during thetransform in `preprocessing_exc_tuple` in IPython 7.17 and above.\n",
      "  and should_run_async(code)\n"
     ]
    },
    {
     "data": {
      "text/plain": [
       "[(['1991 Indian economic crisis'],\n",
       "  '{{Short description|Indian economic crisis of 1991}}\\n{{Use dmy dates|date=May 2020}}\\n{{Use Indian English|date=July 2015}}\\nThe \\'\\'\\'1991 Indian economic crisis\\'\\'\\' was an economic crisis in India resulting from a [[balance of payments]] deficit due to excess reliance on imports and other external factors.<ref>{{cite web | url=https://www.imf.org/external/pubs/ft/staffp/2002/03/pdf/cerra.pdf | title=What Caused the 1991 Currency Crisis in India? | publisher=International Monetary Fund | work=VALERIE CERRA and SWETA CHAMAN SAXENA | access-date=7 May 2023}}</ref> India\\'s economic problems started worsening in 1985 as imports swelled, leaving the country in a [[twin deficit]]: the Indian trade balance was in deficit at a time when the government was running on a huge fiscal deficit (although the twin-deficit hypothesis is disputed).<ref name=\"originalreport\">{{cite web |title=India - Structural Adjustment Credit Project (English) - Presidents report |url=http://documents.worldbank.org/curated/en/999451468260069468/India-Structural-Adjustment-Credit-Project |website=documents.worldbank.org |publisher=World bank |access-date=30 October 2018}}</ref>\\n\\nThe fall of the [[Eastern Bloc]], which had trade relations with India and allowed for rupee exchange, posed significant issues. Towards the end of 1990, leading up to the Gulf War, the situation became dire. India\\'s foreign exchange reserves were not enough to finance three weeks\\' worth of imports. Additionally, the Iraq-Kuwait conflict caused a significant shift in the trade deficit as India relied on these nations for crude oil. The surge in crude oil prices further exacerbated the imbalance in India\\'s balance of payments. Meanwhile, the government was on the brink of defaulting on its financial obligations. In July of that year, the rupee experienced a sharp depreciation/devaluation due to the low reserves, which further worsened the twin deficit problem.<ref name=\"auto\">{{cite web|url=https://www.imf.org/external/pubs/ft/staffp/2002/03/pdf/cerra.pdf|title=What Caused the 1991 Currency Crisis in India?|website=International Monetary Fund|publisher=VALERIE CERRA and SWETA CHAMAN SAXENA}}</ref>\\n\\nIn February 1991, the [[Chandra Shekhar ministry|Chandrasekhar government]] was unable to pass the budget after [[Moody\\'s Investors Service|Moody\\'s]] downgraded India\\'s bond ratings.<ref>{{cite web |author=Yashwant Sinha |author-link=Yashwant Sinha |date=29 July 2016 |title=1991, the untold story |url=https://www.thehindu.com/opinion/op-ed/1991-the-untold-story/article14513325.ece |access-date=21 December 2018 |work=The Hindu}}</ref> The ratings declined further due to the unsuccessful passage of the budget, making it increasingly challenging and expensive for India to borrow money from international capital markets. This placed additional pressure on the country\\'s economy.<ref name=\":0\">{{cite web |date=20 January 2013 |title=Two months that changed India |url=https://www.business-standard.com/article/beyond-business/two-months-that-changed-india-111070200041_1.html |access-date=3 August 2021 |publisher=[[Business Standard]]}}</ref> The International Monetary Fund ([[IMF]]) suspended its loan program to India, and the [[World Bank]] also discontinued its assistance. These actions limited the government\\'s options to address the crisis and forced it to take drastic measures to avoid defaulting on its payments.<ref>{{cite web |author=Deepak Nayar |date=18 October 2016 |title=How the economy found its feet |url=https://www.thehindu.com/opinion/op-ed/How-the-economy-found-its-feet/article14506275.ece |access-date=21 December 2018 |work=The Hindu}}</ref><ref>{{cite web |author=Shaji Vikraman |date=5 April 2017 |title=In fact: How govts pledged gold to pull economy back from the brink |url=https://indianexpress.com/article/explained/in-fact-how-govts-pledged-gold-to-pull-economy-back-from-the-brink/ |access-date=21 December 2018 |work=The Indian Express}}</ref><ref name=\"CorbridgeHarriss2013\">{{cite book |author1=Stuart Corbridge |url=https://books.google.com/books?id=ERgoAAAAQBAJ&pg=PT144 |title=Reinventing India: Liberalization, Hindu Nationalism and Popular Democracy |author2=John Harriss |publisher=Wiley |year=2013 |isbn=978-0-7456-6604-4 |page=144}}</ref>\\n\\nTo address the economic crisis, the government implemented various measures, including the pledge of a significant portion of India\\'s gold reserves to the Bank of England and the Union Bank of Switzerland as collateral. The aim of this move was to secure much-needed foreign exchange to meet India\\'s debt obligations and stabilize the economy. However, this decision was not without controversy and was seen by some as a drastic and desperate move. Critics viewed the decision to mortgage the country\\'s gold as a sign of the government\\'s limited options and inability to manage the crisis effectively.<ref name=\"bail\">{{cite web|url=http://business.rediff.com/slide-show/2009/may/25/slide-show-5-lord-desai-on-recession-and-indian-politics.htm|title=I think a stimulus package is necessary, yes. Bailouts, no|work=Rediff News|access-date=2009-10-20}}</ref>\\n\\nThe economic crisis created a situation where India had to accept the conditions imposed by the World Bank and IMF loan, which included structural reforms. As a result, the Indian economy was opened up to [[Economic liberalisation in India|foreign participation in various sectors, including state-owned enterprises]]. This move towards liberalization was seen by some as necessary to secure much-needed funds and prevent default on loan payments. However, it also led to concerns about the impact of foreign entities on India\\'s economy and the potential loss of control over vital industries.<ref name=\"worldbank\">{{cite web |title=Structural adjustments in India - a reportof the Independent Evaluation Group (IEG) |url=http://lnweb90.worldbank.org/oed/oeddoclib.nsf/DocUNIDViewForJavaSearch/0586CC45A28A2749852567F5005D8C89 |website=lnweb90.worldbank.org |publisher=World bank |access-date=30 October 2018 |archive-url=https://web.archive.org/web/20190509212112/http://lnweb90.worldbank.org/oed/oeddoclib.nsf/DocUNIDViewForJavaSearch/0586CC45A28A2749852567F5005D8C89 |archive-date=9 May 2019 |url-status=dead }}</ref><ref>{{cite web|date=2010-09-17|title=How WB,IMF got India to adopt reforms in 1991|url=https://indianexpress.com/article/news-archive/web/how-wb-imf-got-india-to-adopt-reforms-in-1991/|access-date=2022-01-28|website=The Indian Express|language=en}}</ref>\\n\\nIndia\\'s liberalization policies since 1991 have led to significant economic growth and integration into the global economy, but have also faced criticism for uneven distribution of [[Economic liberalisation in India|benefits, austerity, unemployment and negative impacts on the environment.]]<ref>{{cite web|title=World Inequality Database - India|url=https://wid.world/country/india/|url-status=live|website=World Inequality Database|archive-url=https://web.archive.org/web/20170109090419/http://wid.world:80/country/india/ |archive-date=9 January 2017 }}</ref>\\n\\n'),\n",
       " (['1991 Indian economic crisis', '== Causes and conscious =='], '\\n'),\n",
       " (['1991 Indian economic crisis',\n",
       "   '== Causes and conscious ==',\n",
       "   '=== Context ==='],\n",
       "  '\\nDuring the 1970s, the International Monetary Fund (IMF) began to increasingly criticise capital controls and shifted its perspective away from the belief that high unemployment was primarily due to insufficient demand. Instead, it started to emphasise the significance of \\'inflexible\\' labor markets and other supply-side factors as the main causes of economic issues. These shifting views eventually laid the groundwork for what would be recognised as the \\'[[Washington Consensus]].\\' These set of economic liberalisation strategies were \\'recommended\\' ([[Structural adjustment|or forced]]) upon developing nations like India by Washington, D.C based institutions, including the IMF, the World Bank, and the United States government\\'s economic departments.<ref name=\":1\">{{Cite book |last=Chomsky |first=Noam |title=Profit over People |date=1999 |isbn=9781888363821}}</ref>\\n\\nThe \\'\\'Volcker shock\\'\\' caused capital outflows from the developing world, causing external dollar denominated debt crises and economic slowdowns in Latin America and other developing countries, including India.<ref>{{Cite web |last=Ghosh |first=Jayati |date=2022-11-15 |title=The Monetary Tightening Trap {{!}} by Jayati Ghosh |url=https://www.project-syndicate.org/commentary/monetary-tightening-wrong-solution-for-current-inflation-by-jayati-ghosh-2022-11 |access-date=2024-02-07 |website=Project Syndicate |language=en}}</ref> This along with Gulf War oil price spike and the dissolution of the USSR and Eastern Bloc leaving the U.S. as the sole superpower gave the previously stated institutions the perfect opportunity to force its policies upon developing countries.<ref name=\":1\" />\\n\\nThe crisis was caused by currency [[overvaluation]];<ref name=\"auto\" /> the [[current account deficit]], and investor confidence played significant role in the sharp exchange rate depreciation.<ref>[http://www.globaleconomicgovernance.org/wp-content/uploads/ghosh-pathways_india.pdf Pathways {{Webarchive|url=https://web.archive.org/web/20131025042847/http://www.globaleconomicgovernance.org/wp-content/uploads/ghosh-pathways_india.pdf |date=25 October 2013 }}, Arunabha Ghosh, Global Governance 12 (2006), 413–429.</ref><ref name=\"Ghosh\">[http://www.globaleconomicgovernance.org/wp-content/uploads/Ghosh%20-%20India.pdf India\\'s Pathway through Financial Crisis] {{webarchive|url=https://web.archive.org/web/20111112080531/http://www.globaleconomicgovernance.org/wp-content/uploads/Ghosh%20-%20India.pdf|date=12 November 2011}}. [[Arunabha Ghosh]]. Global Economic Governance Programme. Retrieved on 2 March 2007.</ref><ref>{{cite web|url=http://findebookee.com/c/crisi-in-india|title=findebookee.com|website=findebookee.com|access-date=21 January 2019|archive-date=1 February 2014|archive-url=https://web.archive.org/web/20140201195857/http://findebookee.com/c/crisi-in-india|url-status=dead}}</ref>\\n\\nDuring the mid-eighties, India started having the balance of payments problems. Precipitated by the [[Gulf War]], India\\'s oil import bill swelled, exports slumped, credit dried up, and investors took their money out.<ref name=\"jolt\">{{cite web|url=http://www.telegraphindia.com/1091104/jsp/frontpage/story_11697358.jsp |title=India shining, India scraping |work=The Telegraph |access-date=2009-10-20 |archive-url=https://web.archive.org/web/20091106123415/http://www.telegraphindia.com/1091104/jsp/frontpage/story_11697358.jsp |archive-date=6 November 2009 |url-status=dead}}</ref> Large fiscal deficits combined with the fixed exchange rate had a spillover effect on the trade deficit culminating in an external payments crisis. By the end of the 1980s, India was in serious economic trouble.\\n[[File:External-debt-as-a-share-of-gni.png|thumb|269x269px|External debt of India (1970–2020)]]\\nOne of the main causes of the crisis was the accumulation of foreign debt. In the 1980s, India had borrowed heavily from international lenders, in part to finance infrastructure projects and industrialization. However, by 1991, the country was facing a severe balance of payments crisis, as it was unable to service its debt and was running out of foreign exchange reserves.<ref>{{Cite journal |last=Lipson |first=Charles |date=1981 |title=The International Organization of Third World Debt |url=https://www.jstor.org/stable/2706412 |journal=International Organization |volume=35 |issue=4 |pages=603–631 |issn=0020-8183}}</ref> There were also structural problems in the Indian economy that contributed to the crisis, including low savings and investment rates, and inadequate export growth.\\n\\nThe foreign exchange reserves by 1991 had dried up to the point that India could barely finance three weeks worth of imports.<ref name=\"WB2\">{{cite web |title=Project proposal - Structured adjustment of India |url=http://documents.worldbank.org/curated/en/999451468260069468/India-Structural-Adjustment-Credit-Project |website=documents.worldbank.org |publisher=World Bank |access-date=30 October 2018}}</ref>\\n\\nIn mid-1991, India\\'s [[exchange rate]] was subjected to a severe adjustment. This event began with a slide in the value of the [[Indian rupee]] leading up to mid-1991. The authorities at the [[Reserve Bank of India]] took partial action, defending the currency by expanding international reserves and slowing the decline in value. However, in mid-1991, with foreign reserves nearly depleted, the Indian government permitted a sharp devaluation that took place in two steps within three days (1 July and 3 July 1991) against major currencies.\\n\\n'),\n",
       " (['1991 Indian economic crisis', '== Recovery =='],\n",
       "  '\\n{{Further|Economic liberalisation in India}}\\nWith India\\'s [[foreign exchange reserves]] at $1.2 billion in January 1991<ref name=\"circle\">{{cite news | url=http://timesofindia.indiatimes.com/biz/india-business/Full-circle-India-buys-200-tons-gold-from-IMF/articleshow/5194338.cms | title=Full circle: India buys 200 tons gold from IMF | work=Rediff News | date=4 November 2009 | access-date=2009-10-20 | first1=Chidanand | first2=Prabhakar | last1=Rajghatta | last2=Sinha}}</ref><ref name=\"why\">{{cite web|url=http://business.rediff.com/slide-show/2009/nov/03/slide-show-1-why-india-bought-imf-gold.htm |title=Why India bought IMF gold |work=Rediff News |access-date=2009-10-20 |archive-url=https://web.archive.org/web/20091106095241/http://business.rediff.com/slide-show/2009/nov/03/slide-show-1-why-india-bought-imf-gold.htm |archive-date=6 November 2009 |url-status=live}}</ref><ref name=\"live\">{{cite web|url=http://www.livemint.com/2009/11/02231541/RBI-to-buy-200-tonnes-of-IMF-g.html |title=RBI to buy 200 tonnes of IMF gold |work=LiveMint |access-date=2009-10-20 |archive-url=https://web.archive.org/web/20091103144537/http://www.livemint.com/2009/11/02231541/RBI-to-buy-200-tonnes-of-IMF-g.html |archive-date=3 November 2009 |url-status=live}}</ref> and depleted by half by June,<ref name=\"live\" /> barely enough to last for roughly 3 weeks of essential imports,<ref name=\"why\" /><ref name=\"pti\">{{cite web|url=http://www.ptinews.com/news/360808_RBI-s-gold-buying-has-its-own-sentimental-value--FM |title=RBI\\'s gold buying has its own sentimental value: FM |work=PTI |access-date=2009-10-20 |archive-url=https://web.archive.org/web/20091106120333/http://www.ptinews.com/news/360808_RBI-s-gold-buying-has-its-own-sentimental-value--FM |archive-date=6 November 2009 |url-status=live}}</ref> India was only weeks away from defaulting on its external balance of payment obligations.<ref name=\"why\" /><ref name=\"live\" />\\n\\n[[Government of India]]\\'s immediate response was to secure an emergency loan of $2.2 billion<ref>{{cite book|last=Meredith|first=Robyn|title=The Elephant and the Dragon|year=2007|publisher=W. W. Norton & Company|isbn=978-0-393-06236-6|url-access=registration|url=https://archive.org/details/elephantdragonri00mere_0}}</ref><ref name=\"buy\">{{cite web|url=http://www.thehindubusinessline.com/2009/11/04/stories/2009110452340100.htm |title=RBI buys 200 tonnes of gold from MF |work=The Hindu |access-date=2009-10-20 |archive-url=https://web.archive.org/web/20091106104709/http://www.thehindubusinessline.com/2009/11/04/stories/2009110452340100.htm |archive-date=6 November 2009 |url-status=dead}}</ref><ref name=\"WB Doc\">{{cite web|url=http://www-wds.worldbank.org/external/default/WDSContentServer/WDSP/IB/1991/08/23/000009265_3960930195417/Rendered/PDF/multi0page.pdf|title=1991 Country Economic Memorandum|work=World Bank|publisher=India Country Department}}</ref> from the [[International Monetary Fund]] by pledging 67 tons of India\\'s gold reserves as collateral security.<ref name=\"bail\" /><ref name=\"buy\" /> The [[Reserve Bank of India]] had to airlift 47 tons of gold to the [[Bank of England]]<ref name=\"jolt\" /><ref name=\"circle\" /> and 20 tons of gold to the [[Union Bank of Switzerland]] to raise $600 million.<ref name=\"jolt\" /><ref name=\"circle\" /><ref name=\"swadeshi\">{{cite web|url=http://www.rediff.com/money/1998/apr/29fm.htm|title=Only Indians, not foreigners, are exercised over swadeshi: FM|work=Rediff News|access-date=2009-10-20}}</ref> &nbsp;During the transport of the gold reserves to the airport, the van experienced a tyre burst and caused panic.<ref>{{cite web | url=https://economictimes.indiatimes.com/news/economy/finance/when-47-tonnes-of-gold-was-in-the-middle-of-road/articleshow/59447917.cms | title=When 47 tonnes of gold was in the middle of road | work=[[The Economic Times]] |author=Gayatri Nayak | date=5 July 2017 | access-date=21 May 2019}}</ref><ref name=\"Rawal2018\">{{cite book|author=Dr. Tejinder Singh Rawal|title=Loads of Money: Guide to Intelligent Stock Market Investing: Common Sense Strategies for Wealth Creation|url=https://books.google.com/books?id=To-BDwAAQBAJ&pg=PT239|date=20 December 2018|publisher=Partridge Publishing India|isbn=978-1-5437-0457-0|page=239}}</ref><ref name=\"bail\" /> The government, in the midst of the 1991 Indian General Elections, conducted the airlift with secrecy.<ref>{{cite web | url=https://indianexpress.com/article/explained/in-fact-how-govts-pledged-gold-to-pull-economy-back-from-the-brink/ | title=In fact: How govts pledged gold to pull economy back from the brink | work=The Indian Express|author=Shaji Vikraman | date=5 April 2017 | access-date=21 May 2019}}</ref> The news of the government pledging the entire gold reserves against the loan outraged national sentiments and caused a public outcry.<ref name=\"jolt\" /><ref name=\"pti\" /> The gold was transported to London via a chartered plane from May 21 to May 31, 1991.<ref name=\"jolt\" /> The Chandra Shekhar government, which authorised the airlift, had collapsed a few months later.<ref name=\"jolt\" /> This move was seen as prioritising the balance of payment crisis over the welfare of the Indian people and kick-started [[P. V. Narasimha Rao|P.V. Narasimha Rao]]\\'s economic reform process.<ref name=\"circle\" /> Later on 31 May 2024 (during BJP rule under election time), the RBI has moved back its 100 Tonnes of Gold Reserves from UK to India for the first time since 1991 and by this process, India started holding most of the gold reserves in its own vaults.<ref>{{Cite web |last=ANI |date=2024-05-31 |title=RBI brings back 100 tonnes of gold reserves from UK vaults |url=https://www.thehindubusinessline.com/markets/gold/rbi-brings-back-100-tonnes-of-gold-reserves-from-uk-to-india/article68235376.ece |access-date=2024-05-31 |website=BusinessLine |language=en}}</ref><ref>{{Cite news |date=2024-05-31 |title=RBI moves 100 tonnes gold from UK to its vaults in India |url=https://timesofindia.indiatimes.com/business/india-business/rbi-moves-100-tonnes-gold-from-uk-to-its-vaults-in-india/articleshow/110574276.cms |access-date=2024-05-31 |work=The Times of India |issn=0971-8257}}</ref><ref>{{Cite news |date=2024-05-31 |title=RBI moves 1 lakh kg of gold from UK back to India, first such move of this quantum since 1991 |url=https://economictimes.indiatimes.com/news/economy/indicators/rbi-moves-1-lakh-kg-of-gold-from-uk-back-to-india-first-such-move-of-this-quantum-since-1991/articleshow/110581597.cms?from=mdr |access-date=2024-05-31 |work=The Economic Times |issn=0013-0389}}</ref>\\n\\n'),\n",
       " (['1991 Indian economic crisis',\n",
       "   '== Recovery ==',\n",
       "   '=== Under the Narasimha Rao government==='],\n",
       "  '\\n[[P. V. Narasimha Rao]] took over as [[Prime Minister of India|Prime Minister]] in June, and appointed [[Manmohan Singh]] as [[Finance Minister of India|Finance Minister]].<ref name=\"jolt\" /> The [[Rao ministry|Narasimha Rao government]] ushered in several reforms that are collectively referred to as [[Economic liberalisation in India#Narasimha Rao government (1991–1996)|liberalisation]] in the Indian [[Mass media|media]].\\n\\nThe reforms formally began on 1 July 1991 when RBI devalued the rupee by 9% and by a further 11% on 3 July. It was done in two doses to test the reaction of the market first by making a smaller depreciation of 9%.<ref>{{cite web|url=https://www.livemint.com/Money/08f2pqhy1c2Yh2OYTItwDL/Indias-tryst-with-currency-devaluation.html|title=India\\'s tryst with currency devaluation|website=livemint.com}}</ref> The economic reforms pushed by Prime Minister Rao were met with significant opposition from those who believed that they were an interference with India\\'s autonomy. The speech made by then Prime Minister Rao, a week after taking office, emphasized the need for these reforms. As reported by the New York Times, \"Mr. Rao, who was sworn in as Prime Minister last week, has already sent a signal to the nation—as well as the I.M.F.—that India faced no \"soft options\" and must open the door to foreign investment, reduce the bureaucratic red tape that stifles initiative, and streamline industrial policy.\"<ref>[https://www.nytimes.com/1991/06/29/world/economic-crisis-forcing-once-self-reliant-india-to-seek-aid.html Economic Crisis Forcing Once Self-Reliant India to Seek Aid], New York Times, 29 June 1991</ref>\\n\\n'),\n",
       " (['1991 Indian economic crisis', '== Aftermath =='],\n",
       "  \"\\n{{See also|Economic liberalisation in India#Criticisms}}\\nSince the implementation of economic reforms in 1991, India has experienced substantial economic growth and has emerged as a prominent participant in the global economy. The liberalization policies of the Indian government have facilitated this growth by attracting foreign investments, increasing trade relations, and promoting domestic economic reforms.\\n\\nHowever, while some argue that these policies have benefited India, there are criticisms that suggest otherwise. Some experts argue that the growth has been uneven, and the benefits of liberalization policies have not been equally distributed across the country. Inequality has increased as the divide between the rich and poor has widened, and marginalized communities have been left behind. Additionally, some have argued that liberalization policies have had negative impacts on the environment and have not addressed issues related to sustainability and social justice.<ref>{{cite web |date=2018-04-04 |title=Gini of wealth in India in 2017 is at 0.83, which puts India among countries with high inequality – |url=https://counterview.org/2018/04/04/gini-of-wealth-in-india-in-2017-is-at-0-83-which-puts-india-among-countries-with-high-inequality/ |access-date=2022-04-14 |publisher=Counterview.org}}</ref>\\n\\nDespite these criticisms, the Indian government continues to promote liberalization policies and seeks to further integrate into the global economy. The success of these policies remains a subject of debate and continues to be a significant point of discussion among policymakers, economists, and civil society groups.\\n\\nIndia's [[Economy of India|gross domestic product]] (GDP), adjusted for inflation, increased from $266 billion in 1991 to $3.7 trillion in 2023, while its purchasing power parity increased from $1 trillion in 1991 to $13 trillion in 2023.\\n\\nPoverty has declined steeply from 55.1% in 2005–06 to 16.4% in 2019–20.<ref>{{Cite web |last=Jain |first=Tejas |date=Dec 31, 2022 |title=Poverty to happiness: How India was rated by various global indices in 2022 |url=https://indianexpress.com/article/india/india-global-index-2022-8339997/#:~:text=Global%20Multidimensional%20Poverty%20Index%3A%20According,per%20cent%20over%20this%20period. |website=The Indian Express}}</ref> In addition to the economic growth and development, access to basic necessities such as food, shelter, and healthcare have drastically improved for people in India. Additionally, life expectancy has consistently improved from an average of 58.7 years in 1990 to an average of 67.2 in 2021.<ref>{{Cite web |title=Life expectancy |url=https://ourworldindata.org/grapher/life-expectancy |access-date=2023-06-22 |website=Our World in Data}}</ref> However, it is to be noted that life expectancy increased at roughly the same rate even before liberalisation.\\n\\nThese challenges while not unique to developing countries, are being addressed considerably well by India over the last few decades. The Indian government has implemented various policies to address these issues, such as poverty alleviation programs, healthcare initiatives, and education reforms. While progress has been significant, there is room for more to promote sustainable development in India.<ref>{{Cite web |last=Pioneer |first=The |title=India’s life expectancy rate less than world's average |url=https://www.dailypioneer.com/2021/state-editions/india---s-life-expectancy-rate-less-than-world-s-average.html |access-date=2023-01-03 |website=The Pioneer |language=en}}</ref>\\n\\n\"),\n",
       " (['1991 Indian economic crisis',\n",
       "   '== Aftermath ==',\n",
       "   '=== Continued current account deficit ==='],\n",
       "  '\\nDespite implementing liberal reforms in 1991, India has been unable to eliminate its current account deficit. In contrast to countries like China and Vietnam, which have managed to achieve a surplus, India continues to face this imbalance. Consequently, India relies on foreign capital inflows in the form of [[foreign direct investment]] (FDI) and [[foreign portfolio investment]] (FPI) to meet its balance of payments requirements. However, this dependence on foreign investment makes India more susceptible to external shocks.\\n\\nAn example of such vulnerability is the potential impact of the U.S. Federal Reserve raising interest rates. In the event of a rate hike, foreign investors in \"risky\" emerging markets like India may redirect their investments towards \"safe\" markets such as Europe and the U.S. As a result, these investors would sell their assets denominated in Indian rupees in exchange for foreign currency assets. Consequently, India\\'s foreign exchange reserves would diminish, and the value of the rupee would weaken and imports would become more expensive.<ref>{{Cite web |title=Tapering in a time of conflict: Trade and Development Report Update (March 2022) |url=https://unctad.org/publication/tapering-time-conflict-trade-and-development-report-update-march-2022 |access-date=2023-05-23 |website=UNCTAD |language=en}}</ref>\\n\\n')]"
      ]
     },
     "execution_count": 103,
     "metadata": {},
     "output_type": "execute_result"
    }
   ],
   "source": [
    "wikipedia_sections"
   ]
  },
  {
   "cell_type": "code",
   "execution_count": 106,
   "id": "c621b466",
   "metadata": {},
   "outputs": [
    {
     "name": "stdout",
     "output_type": "stream",
     "text": [
      "Filtered out 1 sections, leaving 6 sections.\n"
     ]
    },
    {
     "name": "stderr",
     "output_type": "stream",
     "text": [
      "C:\\Users\\hp\\anaconda3\\lib\\site-packages\\ipykernel\\ipkernel.py:287: DeprecationWarning: `should_run_async` will not call `transform_cell` automatically in the future. Please pass the result to `transformed_cell` argument and any exception that happen during thetransform in `preprocessing_exc_tuple` in IPython 7.17 and above.\n",
      "  and should_run_async(code)\n"
     ]
    }
   ],
   "source": [
    "# clean text\n",
    "def clean_section(section: tuple) -> tuple:\n",
    "    \"\"\"\n",
    "    Return a cleaned up section with:\n",
    "        - <ref>xyz</ref> patterns removed\n",
    "        - leading/trailing whitespace removed\n",
    "    \"\"\"\n",
    "    titles, text = section\n",
    "    text = re.sub(r\"<ref.*?</ref>\", \"\", text)\n",
    "    text = text.strip()\n",
    "    return (titles, text)\n",
    "\n",
    "\n",
    "wikipedia_sections = [clean_section(ws) for ws in wikipedia_sections]\n",
    "\n",
    "# filter out short/blank sections\n",
    "def keep_section(section: tuple) -> bool:\n",
    "    \"\"\"Return True if the section should be kept, False otherwise.\"\"\"\n",
    "    titles, text = section\n",
    "    if len(text) < 16:\n",
    "        return False\n",
    "    else:\n",
    "        return True\n",
    "\n",
    "\n",
    "original_num_sections = len(wikipedia_sections)\n",
    "wikipedia_sections = [ws for ws in wikipedia_sections if keep_section(ws)]\n",
    "print(f\"Filtered out {original_num_sections-len(wikipedia_sections)} sections, leaving {len(wikipedia_sections)} sections.\")"
   ]
  },
  {
   "cell_type": "code",
   "execution_count": 107,
   "id": "49bd0063",
   "metadata": {},
   "outputs": [
    {
     "name": "stdout",
     "output_type": "stream",
     "text": [
      "['1991 Indian economic crisis']\n"
     ]
    },
    {
     "name": "stderr",
     "output_type": "stream",
     "text": [
      "C:\\Users\\hp\\anaconda3\\lib\\site-packages\\ipykernel\\ipkernel.py:287: DeprecationWarning: `should_run_async` will not call `transform_cell` automatically in the future. Please pass the result to `transformed_cell` argument and any exception that happen during thetransform in `preprocessing_exc_tuple` in IPython 7.17 and above.\n",
      "  and should_run_async(code)\n"
     ]
    },
    {
     "data": {
      "text/plain": [
       "'{{Short description|Indian economic crisis of 1991}}\\n{{Use dmy dates|date=May...'"
      ]
     },
     "metadata": {},
     "output_type": "display_data"
    },
    {
     "name": "stdout",
     "output_type": "stream",
     "text": [
      "\n",
      "['1991 Indian economic crisis', '== Causes and conscious ==', '=== Context ===']\n"
     ]
    },
    {
     "data": {
      "text/plain": [
       "'During the 1970s, the International Monetary Fund (IMF) began to increasingly...'"
      ]
     },
     "metadata": {},
     "output_type": "display_data"
    },
    {
     "name": "stdout",
     "output_type": "stream",
     "text": [
      "\n",
      "['1991 Indian economic crisis', '== Recovery ==']\n"
     ]
    },
    {
     "data": {
      "text/plain": [
       "\"{{Further|Economic liberalisation in India}}\\nWith India's [[foreign exchange ...\""
      ]
     },
     "metadata": {},
     "output_type": "display_data"
    },
    {
     "name": "stdout",
     "output_type": "stream",
     "text": [
      "\n",
      "['1991 Indian economic crisis', '== Recovery ==', '=== Under the Narasimha Rao government===']\n"
     ]
    },
    {
     "data": {
      "text/plain": [
       "'[[P. V. Narasimha Rao]] took over as [[Prime Minister of India|Prime Minister...'"
      ]
     },
     "metadata": {},
     "output_type": "display_data"
    },
    {
     "name": "stdout",
     "output_type": "stream",
     "text": [
      "\n",
      "['1991 Indian economic crisis', '== Aftermath ==']\n"
     ]
    },
    {
     "data": {
      "text/plain": [
       "'{{See also|Economic liberalisation in India#Criticisms}}\\nSince the implementa...'"
      ]
     },
     "metadata": {},
     "output_type": "display_data"
    },
    {
     "name": "stdout",
     "output_type": "stream",
     "text": [
      "\n"
     ]
    }
   ],
   "source": [
    "# print example data\n",
    "for ws in wikipedia_sections[:5]:\n",
    "    print(ws[0])\n",
    "    display(ws[1][:77] + \"...\")\n",
    "    print()"
   ]
  },
  {
   "cell_type": "code",
   "execution_count": 110,
   "id": "c801ab38",
   "metadata": {},
   "outputs": [
    {
     "name": "stderr",
     "output_type": "stream",
     "text": [
      "C:\\Users\\hp\\anaconda3\\lib\\site-packages\\ipykernel\\ipkernel.py:287: DeprecationWarning: `should_run_async` will not call `transform_cell` automatically in the future. Please pass the result to `transformed_cell` argument and any exception that happen during thetransform in `preprocessing_exc_tuple` in IPython 7.17 and above.\n",
      "  and should_run_async(code)\n"
     ]
    },
    {
     "data": {
      "text/plain": [
       "[(['1991 Indian economic crisis'],\n",
       "  \"{{Short description|Indian economic crisis of 1991}}\\n{{Use dmy dates|date=May 2020}}\\n{{Use Indian English|date=July 2015}}\\nThe '''1991 Indian economic crisis''' was an economic crisis in India resulting from a [[balance of payments]] deficit due to excess reliance on imports and other external factors. India's economic problems started worsening in 1985 as imports swelled, leaving the country in a [[twin deficit]]: the Indian trade balance was in deficit at a time when the government was running on a huge fiscal deficit (although the twin-deficit hypothesis is disputed).\\n\\nThe fall of the [[Eastern Bloc]], which had trade relations with India and allowed for rupee exchange, posed significant issues. Towards the end of 1990, leading up to the Gulf War, the situation became dire. India's foreign exchange reserves were not enough to finance three weeks' worth of imports. Additionally, the Iraq-Kuwait conflict caused a significant shift in the trade deficit as India relied on these nations for crude oil. The surge in crude oil prices further exacerbated the imbalance in India's balance of payments. Meanwhile, the government was on the brink of defaulting on its financial obligations. In July of that year, the rupee experienced a sharp depreciation/devaluation due to the low reserves, which further worsened the twin deficit problem.\\n\\nIn February 1991, the [[Chandra Shekhar ministry|Chandrasekhar government]] was unable to pass the budget after [[Moody's Investors Service|Moody's]] downgraded India's bond ratings. The ratings declined further due to the unsuccessful passage of the budget, making it increasingly challenging and expensive for India to borrow money from international capital markets. This placed additional pressure on the country's economy. The International Monetary Fund ([[IMF]]) suspended its loan program to India, and the [[World Bank]] also discontinued its assistance. These actions limited the government's options to address the crisis and forced it to take drastic measures to avoid defaulting on its payments.\\n\\nTo address the economic crisis, the government implemented various measures, including the pledge of a significant portion of India's gold reserves to the Bank of England and the Union Bank of Switzerland as collateral. The aim of this move was to secure much-needed foreign exchange to meet India's debt obligations and stabilize the economy. However, this decision was not without controversy and was seen by some as a drastic and desperate move. Critics viewed the decision to mortgage the country's gold as a sign of the government's limited options and inability to manage the crisis effectively.\\n\\nThe economic crisis created a situation where India had to accept the conditions imposed by the World Bank and IMF loan, which included structural reforms. As a result, the Indian economy was opened up to [[Economic liberalisation in India|foreign participation in various sectors, including state-owned enterprises]]. This move towards liberalization was seen by some as necessary to secure much-needed funds and prevent default on loan payments. However, it also led to concerns about the impact of foreign entities on India's economy and the potential loss of control over vital industries.\\n\\nIndia's liberalization policies since 1991 have led to significant economic growth and integration into the global economy, but have also faced criticism for uneven distribution of [[Economic liberalisation in India|benefits, austerity, unemployment and negative impacts on the environment.]]\"),\n",
       " (['1991 Indian economic crisis',\n",
       "   '== Causes and conscious ==',\n",
       "   '=== Context ==='],\n",
       "  'During the 1970s, the International Monetary Fund (IMF) began to increasingly criticise capital controls and shifted its perspective away from the belief that high unemployment was primarily due to insufficient demand. Instead, it started to emphasise the significance of \\'inflexible\\' labor markets and other supply-side factors as the main causes of economic issues. These shifting views eventually laid the groundwork for what would be recognised as the \\'[[Washington Consensus]].\\' These set of economic liberalisation strategies were \\'recommended\\' ([[Structural adjustment|or forced]]) upon developing nations like India by Washington, D.C based institutions, including the IMF, the World Bank, and the United States government\\'s economic departments.\\n\\nThe \\'\\'Volcker shock\\'\\' caused capital outflows from the developing world, causing external dollar denominated debt crises and economic slowdowns in Latin America and other developing countries, including India. This along with Gulf War oil price spike and the dissolution of the USSR and Eastern Bloc leaving the U.S. as the sole superpower gave the previously stated institutions the perfect opportunity to force its policies upon developing countries.<ref name=\":1\" />\\n\\nThe crisis was caused by currency [[overvaluation]];\\n\\nDuring the mid-eighties, India started having the balance of payments problems. Precipitated by the [[Gulf War]], India\\'s oil import bill swelled, exports slumped, credit dried up, and investors took their money out. Large fiscal deficits combined with the fixed exchange rate had a spillover effect on the trade deficit culminating in an external payments crisis. By the end of the 1980s, India was in serious economic trouble.\\n[[File:External-debt-as-a-share-of-gni.png|thumb|269x269px|External debt of India (1970–2020)]]\\nOne of the main causes of the crisis was the accumulation of foreign debt. In the 1980s, India had borrowed heavily from international lenders, in part to finance infrastructure projects and industrialization. However, by 1991, the country was facing a severe balance of payments crisis, as it was unable to service its debt and was running out of foreign exchange reserves. There were also structural problems in the Indian economy that contributed to the crisis, including low savings and investment rates, and inadequate export growth.\\n\\nThe foreign exchange reserves by 1991 had dried up to the point that India could barely finance three weeks worth of imports.\\n\\nIn mid-1991, India\\'s [[exchange rate]] was subjected to a severe adjustment. This event began with a slide in the value of the [[Indian rupee]] leading up to mid-1991. The authorities at the [[Reserve Bank of India]] took partial action, defending the currency by expanding international reserves and slowing the decline in value. However, in mid-1991, with foreign reserves nearly depleted, the Indian government permitted a sharp devaluation that took place in two steps within three days (1 July and 3 July 1991) against major currencies.'),\n",
       " (['1991 Indian economic crisis', '== Recovery =='],\n",
       "  '{{Further|Economic liberalisation in India}}\\nWith India\\'s [[foreign exchange reserves]] at $1.2 billion in January 1991 and depleted by half by June, India was only weeks away from defaulting on its external balance of payment obligations.<ref name=\"why\" /><ref name=\"live\" />\\n\\n[[Government of India]]\\'s immediate response was to secure an emergency loan of $2.2 billion from the [[International Monetary Fund]] by pledging 67 tons of India\\'s gold reserves as collateral security. &nbsp;During the transport of the gold reserves to the airport, the van experienced a tyre burst and caused panic. The news of the government pledging the entire gold reserves against the loan outraged national sentiments and caused a public outcry.'),\n",
       " (['1991 Indian economic crisis',\n",
       "   '== Recovery ==',\n",
       "   '=== Under the Narasimha Rao government==='],\n",
       "  '[[P. V. Narasimha Rao]] took over as [[Prime Minister of India|Prime Minister]] in June, and appointed [[Manmohan Singh]] as [[Finance Minister of India|Finance Minister]].<ref name=\"jolt\" /> The [[Rao ministry|Narasimha Rao government]] ushered in several reforms that are collectively referred to as [[Economic liberalisation in India#Narasimha Rao government (1991–1996)|liberalisation]] in the Indian [[Mass media|media]].\\n\\nThe reforms formally began on 1 July 1991 when RBI devalued the rupee by 9% and by a further 11% on 3 July. It was done in two doses to test the reaction of the market first by making a smaller depreciation of 9%. The economic reforms pushed by Prime Minister Rao were met with significant opposition from those who believed that they were an interference with India\\'s autonomy. The speech made by then Prime Minister Rao, a week after taking office, emphasized the need for these reforms. As reported by the New York Times, \"Mr. Rao, who was sworn in as Prime Minister last week, has already sent a signal to the nation—as well as the I.M.F.—that India faced no \"soft options\" and must open the door to foreign investment, reduce the bureaucratic red tape that stifles initiative, and streamline industrial policy.\"'),\n",
       " (['1991 Indian economic crisis', '== Aftermath =='],\n",
       "  \"{{See also|Economic liberalisation in India#Criticisms}}\\nSince the implementation of economic reforms in 1991, India has experienced substantial economic growth and has emerged as a prominent participant in the global economy. The liberalization policies of the Indian government have facilitated this growth by attracting foreign investments, increasing trade relations, and promoting domestic economic reforms.\\n\\nHowever, while some argue that these policies have benefited India, there are criticisms that suggest otherwise. Some experts argue that the growth has been uneven, and the benefits of liberalization policies have not been equally distributed across the country. Inequality has increased as the divide between the rich and poor has widened, and marginalized communities have been left behind. Additionally, some have argued that liberalization policies have had negative impacts on the environment and have not addressed issues related to sustainability and social justice.\\n\\nDespite these criticisms, the Indian government continues to promote liberalization policies and seeks to further integrate into the global economy. The success of these policies remains a subject of debate and continues to be a significant point of discussion among policymakers, economists, and civil society groups.\\n\\nIndia's [[Economy of India|gross domestic product]] (GDP), adjusted for inflation, increased from $266 billion in 1991 to $3.7 trillion in 2023, while its purchasing power parity increased from $1 trillion in 1991 to $13 trillion in 2023.\\n\\nPoverty has declined steeply from 55.1% in 2005–06 to 16.4% in 2019–20. In addition to the economic growth and development, access to basic necessities such as food, shelter, and healthcare have drastically improved for people in India. Additionally, life expectancy has consistently improved from an average of 58.7 years in 1990 to an average of 67.2 in 2021. However, it is to be noted that life expectancy increased at roughly the same rate even before liberalisation.\\n\\nThese challenges while not unique to developing countries, are being addressed considerably well by India over the last few decades. The Indian government has implemented various policies to address these issues, such as poverty alleviation programs, healthcare initiatives, and education reforms. While progress has been significant, there is room for more to promote sustainable development in India.\"),\n",
       " (['1991 Indian economic crisis',\n",
       "   '== Aftermath ==',\n",
       "   '=== Continued current account deficit ==='],\n",
       "  'Despite implementing liberal reforms in 1991, India has been unable to eliminate its current account deficit. In contrast to countries like China and Vietnam, which have managed to achieve a surplus, India continues to face this imbalance. Consequently, India relies on foreign capital inflows in the form of [[foreign direct investment]] (FDI) and [[foreign portfolio investment]] (FPI) to meet its balance of payments requirements. However, this dependence on foreign investment makes India more susceptible to external shocks.\\n\\nAn example of such vulnerability is the potential impact of the U.S. Federal Reserve raising interest rates. In the event of a rate hike, foreign investors in \"risky\" emerging markets like India may redirect their investments towards \"safe\" markets such as Europe and the U.S. As a result, these investors would sell their assets denominated in Indian rupees in exchange for foreign currency assets. Consequently, India\\'s foreign exchange reserves would diminish, and the value of the rupee would weaken and imports would become more expensive.')]"
      ]
     },
     "execution_count": 110,
     "metadata": {},
     "output_type": "execute_result"
    }
   ],
   "source": [
    "wikipedia_sections"
   ]
  },
  {
   "cell_type": "code",
   "execution_count": 112,
   "id": "852ae053",
   "metadata": {},
   "outputs": [
    {
     "name": "stderr",
     "output_type": "stream",
     "text": [
      "C:\\Users\\hp\\anaconda3\\lib\\site-packages\\ipykernel\\ipkernel.py:287: DeprecationWarning: `should_run_async` will not call `transform_cell` automatically in the future. Please pass the result to `transformed_cell` argument and any exception that happen during thetransform in `preprocessing_exc_tuple` in IPython 7.17 and above.\n",
      "  and should_run_async(code)\n"
     ]
    },
    {
     "ename": "NameError",
     "evalue": "name 'GPT_MODEL' is not defined",
     "output_type": "error",
     "traceback": [
      "\u001b[1;31m---------------------------------------------------------------------------\u001b[0m",
      "\u001b[1;31mNameError\u001b[0m                                 Traceback (most recent call last)",
      "\u001b[1;32m<ipython-input-112-69da736618f4>\u001b[0m in \u001b[0;36m<module>\u001b[1;34m\u001b[0m\n\u001b[0;32m      2\u001b[0m     \u001b[0msubsection\u001b[0m\u001b[1;33m:\u001b[0m \u001b[0mtuple\u001b[0m\u001b[1;33m[\u001b[0m\u001b[0mlist\u001b[0m\u001b[1;33m[\u001b[0m\u001b[0mstr\u001b[0m\u001b[1;33m]\u001b[0m\u001b[1;33m,\u001b[0m \u001b[0mstr\u001b[0m\u001b[1;33m]\u001b[0m\u001b[1;33m,\u001b[0m\u001b[1;33m\u001b[0m\u001b[1;33m\u001b[0m\u001b[0m\n\u001b[0;32m      3\u001b[0m     \u001b[0mmax_tokens\u001b[0m\u001b[1;33m:\u001b[0m \u001b[0mint\u001b[0m \u001b[1;33m=\u001b[0m \u001b[1;36m1000\u001b[0m\u001b[1;33m,\u001b[0m\u001b[1;33m\u001b[0m\u001b[1;33m\u001b[0m\u001b[0m\n\u001b[1;32m----> 4\u001b[1;33m     \u001b[0mmodel\u001b[0m\u001b[1;33m:\u001b[0m \u001b[0mstr\u001b[0m \u001b[1;33m=\u001b[0m \u001b[0mGPT_MODEL\u001b[0m\u001b[1;33m,\u001b[0m\u001b[1;33m\u001b[0m\u001b[1;33m\u001b[0m\u001b[0m\n\u001b[0m\u001b[0;32m      5\u001b[0m     \u001b[0mmax_recursion\u001b[0m\u001b[1;33m:\u001b[0m \u001b[0mint\u001b[0m \u001b[1;33m=\u001b[0m \u001b[1;36m5\u001b[0m\u001b[1;33m,\u001b[0m\u001b[1;33m\u001b[0m\u001b[1;33m\u001b[0m\u001b[0m\n\u001b[0;32m      6\u001b[0m ) -> list[str]:\n",
      "\u001b[1;31mNameError\u001b[0m: name 'GPT_MODEL' is not defined"
     ]
    }
   ],
   "source": [
    "def split_strings_from_subsection(\n",
    "    subsection: tuple[list[str], str],\n",
    "    max_tokens: int = 1000,\n",
    "    model: str = GPT_MODEL,\n",
    "    max_recursion: int = 5,\n",
    ") -> list[str]:\n",
    "    \"\"\"\n",
    "    Split a subsection into a list of subsections, each with no more than max_tokens.\n",
    "    Each subsection is a tuple of parent titles [H1, H2, ...] and text (str).\n",
    "    \"\"\"\n",
    "    titles, text = subsection\n",
    "    string = \"\\n\\n\".join(titles + [text])\n",
    "    num_tokens_in_string = num_tokens(string)\n",
    "    # if length is fine, return string\n",
    "    if num_tokens_in_string <= max_tokens:\n",
    "        return [string]\n",
    "    # if recursion hasn't found a split after X iterations, just truncate\n",
    "    elif max_recursion == 0:\n",
    "        return [truncated_string(string, model=model, max_tokens=max_tokens)]\n",
    "    # otherwise, split in half and recurse\n",
    "    else:\n",
    "        titles, text = subsection\n",
    "        for delimiter in [\"\\n\\n\", \"\\n\", \". \"]:\n",
    "            left, right = halved_by_delimiter(text, delimiter=delimiter)\n",
    "            if left == \"\" or right == \"\":\n",
    "                # if either half is empty, retry with a more fine-grained delimiter\n",
    "                continue\n",
    "            else:\n",
    "                # recurse on each half\n",
    "                results = []\n",
    "                for half in [left, right]:\n",
    "                    half_subsection = (titles, half)\n",
    "                    half_strings = split_strings_from_subsection(\n",
    "                        half_subsection,\n",
    "                        max_tokens=max_tokens,\n",
    "                        model=model,\n",
    "                        max_recursion=max_recursion - 1,\n",
    "                    )\n",
    "                    results.extend(half_strings)\n",
    "                return results\n",
    "    # otherwise no split was found, so just truncate (should be very rare)\n",
    "    return [truncated_string(string, model=model, max_tokens=max_tokens)]"
   ]
  },
  {
   "cell_type": "code",
   "execution_count": 111,
   "id": "6e759c37",
   "metadata": {},
   "outputs": [
    {
     "name": "stderr",
     "output_type": "stream",
     "text": [
      "C:\\Users\\hp\\anaconda3\\lib\\site-packages\\ipykernel\\ipkernel.py:287: DeprecationWarning: `should_run_async` will not call `transform_cell` automatically in the future. Please pass the result to `transformed_cell` argument and any exception that happen during thetransform in `preprocessing_exc_tuple` in IPython 7.17 and above.\n",
      "  and should_run_async(code)\n"
     ]
    },
    {
     "ename": "NameError",
     "evalue": "name 'split_strings_from_subsection' is not defined",
     "output_type": "error",
     "traceback": [
      "\u001b[1;31m---------------------------------------------------------------------------\u001b[0m",
      "\u001b[1;31mNameError\u001b[0m                                 Traceback (most recent call last)",
      "\u001b[1;32m<ipython-input-111-c2aec88e9470>\u001b[0m in \u001b[0;36m<module>\u001b[1;34m\u001b[0m\n\u001b[0;32m      3\u001b[0m \u001b[0mwikipedia_strings\u001b[0m \u001b[1;33m=\u001b[0m \u001b[1;33m[\u001b[0m\u001b[1;33m]\u001b[0m\u001b[1;33m\u001b[0m\u001b[1;33m\u001b[0m\u001b[0m\n\u001b[0;32m      4\u001b[0m \u001b[1;32mfor\u001b[0m \u001b[0msection\u001b[0m \u001b[1;32min\u001b[0m \u001b[0mwikipedia_sections\u001b[0m\u001b[1;33m:\u001b[0m\u001b[1;33m\u001b[0m\u001b[1;33m\u001b[0m\u001b[0m\n\u001b[1;32m----> 5\u001b[1;33m     \u001b[0mwikipedia_strings\u001b[0m\u001b[1;33m.\u001b[0m\u001b[0mextend\u001b[0m\u001b[1;33m(\u001b[0m\u001b[0msplit_strings_from_subsection\u001b[0m\u001b[1;33m(\u001b[0m\u001b[0msection\u001b[0m\u001b[1;33m,\u001b[0m \u001b[0mmax_tokens\u001b[0m\u001b[1;33m=\u001b[0m\u001b[0mMAX_TOKENS\u001b[0m\u001b[1;33m)\u001b[0m\u001b[1;33m)\u001b[0m\u001b[1;33m\u001b[0m\u001b[1;33m\u001b[0m\u001b[0m\n\u001b[0m\u001b[0;32m      6\u001b[0m \u001b[1;33m\u001b[0m\u001b[0m\n\u001b[0;32m      7\u001b[0m \u001b[0mprint\u001b[0m\u001b[1;33m(\u001b[0m\u001b[1;34mf\"{len(wikipedia_sections)} Wikipedia sections split into {len(wikipedia_strings)} strings.\"\u001b[0m\u001b[1;33m)\u001b[0m\u001b[1;33m\u001b[0m\u001b[1;33m\u001b[0m\u001b[0m\n",
      "\u001b[1;31mNameError\u001b[0m: name 'split_strings_from_subsection' is not defined"
     ]
    }
   ],
   "source": [
    "# split sections into chunks\n",
    "MAX_TOKENS = 1600\n",
    "wikipedia_strings = []\n",
    "for section in wikipedia_sections:\n",
    "    wikipedia_strings.extend(split_strings_from_subsection(section, max_tokens=MAX_TOKENS))\n",
    "\n",
    "print(f\"{len(wikipedia_sections)} Wikipedia sections split into {len(wikipedia_strings)} strings.\")"
   ]
  },
  {
   "cell_type": "code",
   "execution_count": null,
   "id": "613cd39f",
   "metadata": {},
   "outputs": [],
   "source": []
  }
 ],
 "metadata": {
  "kernelspec": {
   "display_name": "Python 3",
   "language": "python",
   "name": "python3"
  },
  "language_info": {
   "codemirror_mode": {
    "name": "ipython",
    "version": 3
   },
   "file_extension": ".py",
   "mimetype": "text/x-python",
   "name": "python",
   "nbconvert_exporter": "python",
   "pygments_lexer": "ipython3",
   "version": "3.8.8"
  }
 },
 "nbformat": 4,
 "nbformat_minor": 5
}
